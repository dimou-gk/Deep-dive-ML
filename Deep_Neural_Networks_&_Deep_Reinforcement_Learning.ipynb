{
  "nbformat": 4,
  "nbformat_minor": 0,
  "metadata": {
    "colab": {
      "provenance": [],
      "gpuType": "T4",
      "toc_visible": true,
      "include_colab_link": true
    },
    "kernelspec": {
      "name": "python3",
      "display_name": "Python 3"
    },
    "language_info": {
      "name": "python"
    },
    "accelerator": "GPU"
  },
  "cells": [
    {
      "cell_type": "markdown",
      "metadata": {
        "id": "view-in-github",
        "colab_type": "text"
      },
      "source": [
        "<a href=\"https://colab.research.google.com/github/dimou-gk/Deep-dive-ML/blob/main/Deep_Neural_Networks_%26_Deep_Reinforcement_Learning.ipynb\" target=\"_parent\"><img src=\"https://colab.research.google.com/assets/colab-badge.svg\" alt=\"Open In Colab\"/></a>"
      ]
    },
    {
      "cell_type": "markdown",
      "source": [
        "# Load Libraries"
      ],
      "metadata": {
        "id": "o_OO_FpSgQYt"
      }
    },
    {
      "cell_type": "code",
      "execution_count": null,
      "metadata": {
        "id": "5Ec07A32fvMo"
      },
      "outputs": [],
      "source": [
        "import tensorflow as tf\n",
        "from tensorflow.keras.datasets import mnist\n",
        "import pandas as pd\n",
        "from pandas import DataFrame\n",
        "from sklearn.model_selection import train_test_split\n",
        "from sklearn.metrics import accuracy_score, recall_score, precision_score, f1_score, classification_report\n",
        "import matplotlib.pyplot as plt\n",
        "import numpy as np"
      ]
    },
    {
      "cell_type": "markdown",
      "source": [
        "# 2-4. Load Dataset & Preprocessing"
      ],
      "metadata": {
        "id": "TXmF6N98gU4M"
      }
    },
    {
      "cell_type": "code",
      "source": [
        "(x_train, y_train), (x_test, y_test) = mnist.load_data()"
      ],
      "metadata": {
        "id": "81T_TUG9gaVN"
      },
      "execution_count": null,
      "outputs": []
    },
    {
      "cell_type": "code",
      "source": [
        "def normalize(data):\n",
        "  return (data - np.min(data)) / (np.max(data) - np.min(data))\n",
        "\n",
        "x_train_normalized = normalize(x_train)\n",
        "x_test_normalized = normalize(x_test)"
      ],
      "metadata": {
        "id": "IuuyjZWpgnFl"
      },
      "execution_count": null,
      "outputs": []
    },
    {
      "cell_type": "code",
      "source": [
        "y_train_one_hot = tf.one_hot(indices=y_train, depth=10)\n",
        "y_test_one_hot = tf.one_hot(indices=y_test, depth=10)"
      ],
      "metadata": {
        "id": "0LonzI8_kbT2"
      },
      "execution_count": null,
      "outputs": []
    },
    {
      "cell_type": "code",
      "source": [
        "import random\n",
        "SEED = 0\n",
        "\n",
        "def set_seeds(seed=SEED):\n",
        "    random.seed(seed)\n",
        "    tf.random.set_seed(seed)\n",
        "    np.random.seed(seed)"
      ],
      "metadata": {
        "id": "14ndJzjomDWI"
      },
      "execution_count": null,
      "outputs": []
    },
    {
      "cell_type": "markdown",
      "source": [
        "# 5. Creation of MLP Neural Network"
      ],
      "metadata": {
        "id": "_1SsRZDXqQ4U"
      }
    },
    {
      "cell_type": "code",
      "source": [
        "input_shape = (784,)\n",
        "num_hidden_layers = 2\n",
        "units_per_layer = 128\n",
        "activation = 'relu'\n",
        "num_classes = 10\n",
        "\n",
        "mlp = tf.keras.Sequential(name='my-mlp')\n",
        "mlp.add(tf.keras.layers.Input(input_shape, name='input_layer'))\n",
        "for i in range(num_hidden_layers):\n",
        "    mlp.add(tf.keras.layers.Dense(units=units_per_layer, activation=activation, name=f'hidden_layer_{i+1}'))\n",
        "mlp.add(tf.keras.layers.Dense(units=num_classes, activation='softmax', name='output_layer'))\n",
        "mlp.summary()"
      ],
      "metadata": {
        "colab": {
          "base_uri": "https://localhost:8080/",
          "height": 234
        },
        "id": "E6m4cnAOnUkX",
        "outputId": "9a940bac-b343-40fc-dd13-cf5305603972"
      },
      "execution_count": null,
      "outputs": [
        {
          "output_type": "display_data",
          "data": {
            "text/plain": [
              "\u001b[1mModel: \"my-mlp\"\u001b[0m\n"
            ],
            "text/html": [
              "<pre style=\"white-space:pre;overflow-x:auto;line-height:normal;font-family:Menlo,'DejaVu Sans Mono',consolas,'Courier New',monospace\"><span style=\"font-weight: bold\">Model: \"my-mlp\"</span>\n",
              "</pre>\n"
            ]
          },
          "metadata": {}
        },
        {
          "output_type": "display_data",
          "data": {
            "text/plain": [
              "┏━━━━━━━━━━━━━━━━━━━━━━━━━━━━━━━━━━━━━━┳━━━━━━━━━━━━━━━━━━━━━━━━━━━━━┳━━━━━━━━━━━━━━━━━┓\n",
              "┃\u001b[1m \u001b[0m\u001b[1mLayer (type)                        \u001b[0m\u001b[1m \u001b[0m┃\u001b[1m \u001b[0m\u001b[1mOutput Shape               \u001b[0m\u001b[1m \u001b[0m┃\u001b[1m \u001b[0m\u001b[1m        Param #\u001b[0m\u001b[1m \u001b[0m┃\n",
              "┡━━━━━━━━━━━━━━━━━━━━━━━━━━━━━━━━━━━━━━╇━━━━━━━━━━━━━━━━━━━━━━━━━━━━━╇━━━━━━━━━━━━━━━━━┩\n",
              "│ hidden_layer_1 (\u001b[38;5;33mDense\u001b[0m)               │ (\u001b[38;5;45mNone\u001b[0m, \u001b[38;5;34m128\u001b[0m)                 │         \u001b[38;5;34m100,480\u001b[0m │\n",
              "├──────────────────────────────────────┼─────────────────────────────┼─────────────────┤\n",
              "│ hidden_layer_2 (\u001b[38;5;33mDense\u001b[0m)               │ (\u001b[38;5;45mNone\u001b[0m, \u001b[38;5;34m128\u001b[0m)                 │          \u001b[38;5;34m16,512\u001b[0m │\n",
              "├──────────────────────────────────────┼─────────────────────────────┼─────────────────┤\n",
              "│ output_layer (\u001b[38;5;33mDense\u001b[0m)                 │ (\u001b[38;5;45mNone\u001b[0m, \u001b[38;5;34m10\u001b[0m)                  │           \u001b[38;5;34m1,290\u001b[0m │\n",
              "└──────────────────────────────────────┴─────────────────────────────┴─────────────────┘\n"
            ],
            "text/html": [
              "<pre style=\"white-space:pre;overflow-x:auto;line-height:normal;font-family:Menlo,'DejaVu Sans Mono',consolas,'Courier New',monospace\">┏━━━━━━━━━━━━━━━━━━━━━━━━━━━━━━━━━━━━━━┳━━━━━━━━━━━━━━━━━━━━━━━━━━━━━┳━━━━━━━━━━━━━━━━━┓\n",
              "┃<span style=\"font-weight: bold\"> Layer (type)                         </span>┃<span style=\"font-weight: bold\"> Output Shape                </span>┃<span style=\"font-weight: bold\">         Param # </span>┃\n",
              "┡━━━━━━━━━━━━━━━━━━━━━━━━━━━━━━━━━━━━━━╇━━━━━━━━━━━━━━━━━━━━━━━━━━━━━╇━━━━━━━━━━━━━━━━━┩\n",
              "│ hidden_layer_1 (<span style=\"color: #0087ff; text-decoration-color: #0087ff\">Dense</span>)               │ (<span style=\"color: #00d7ff; text-decoration-color: #00d7ff\">None</span>, <span style=\"color: #00af00; text-decoration-color: #00af00\">128</span>)                 │         <span style=\"color: #00af00; text-decoration-color: #00af00\">100,480</span> │\n",
              "├──────────────────────────────────────┼─────────────────────────────┼─────────────────┤\n",
              "│ hidden_layer_2 (<span style=\"color: #0087ff; text-decoration-color: #0087ff\">Dense</span>)               │ (<span style=\"color: #00d7ff; text-decoration-color: #00d7ff\">None</span>, <span style=\"color: #00af00; text-decoration-color: #00af00\">128</span>)                 │          <span style=\"color: #00af00; text-decoration-color: #00af00\">16,512</span> │\n",
              "├──────────────────────────────────────┼─────────────────────────────┼─────────────────┤\n",
              "│ output_layer (<span style=\"color: #0087ff; text-decoration-color: #0087ff\">Dense</span>)                 │ (<span style=\"color: #00d7ff; text-decoration-color: #00d7ff\">None</span>, <span style=\"color: #00af00; text-decoration-color: #00af00\">10</span>)                  │           <span style=\"color: #00af00; text-decoration-color: #00af00\">1,290</span> │\n",
              "└──────────────────────────────────────┴─────────────────────────────┴─────────────────┘\n",
              "</pre>\n"
            ]
          },
          "metadata": {}
        },
        {
          "output_type": "display_data",
          "data": {
            "text/plain": [
              "\u001b[1m Total params: \u001b[0m\u001b[38;5;34m118,282\u001b[0m (462.04 KB)\n"
            ],
            "text/html": [
              "<pre style=\"white-space:pre;overflow-x:auto;line-height:normal;font-family:Menlo,'DejaVu Sans Mono',consolas,'Courier New',monospace\"><span style=\"font-weight: bold\"> Total params: </span><span style=\"color: #00af00; text-decoration-color: #00af00\">118,282</span> (462.04 KB)\n",
              "</pre>\n"
            ]
          },
          "metadata": {}
        },
        {
          "output_type": "display_data",
          "data": {
            "text/plain": [
              "\u001b[1m Trainable params: \u001b[0m\u001b[38;5;34m118,282\u001b[0m (462.04 KB)\n"
            ],
            "text/html": [
              "<pre style=\"white-space:pre;overflow-x:auto;line-height:normal;font-family:Menlo,'DejaVu Sans Mono',consolas,'Courier New',monospace\"><span style=\"font-weight: bold\"> Trainable params: </span><span style=\"color: #00af00; text-decoration-color: #00af00\">118,282</span> (462.04 KB)\n",
              "</pre>\n"
            ]
          },
          "metadata": {}
        },
        {
          "output_type": "display_data",
          "data": {
            "text/plain": [
              "\u001b[1m Non-trainable params: \u001b[0m\u001b[38;5;34m0\u001b[0m (0.00 B)\n"
            ],
            "text/html": [
              "<pre style=\"white-space:pre;overflow-x:auto;line-height:normal;font-family:Menlo,'DejaVu Sans Mono',consolas,'Courier New',monospace\"><span style=\"font-weight: bold\"> Non-trainable params: </span><span style=\"color: #00af00; text-decoration-color: #00af00\">0</span> (0.00 B)\n",
              "</pre>\n"
            ]
          },
          "metadata": {}
        }
      ]
    },
    {
      "cell_type": "markdown",
      "source": [
        "Our MLP Neural Network consists of the following architecture. First we initialize our NN with an input fully connected layer. Then we create two hidden layers each with 128 as output and ReLU as actication function. Finaly we add another fully connected output layer with softmax as activation function, which returns probabilities the input beloning to each of our classes (adding to 1)"
      ],
      "metadata": {
        "id": "PtBIYoPIpJje"
      }
    },
    {
      "cell_type": "markdown",
      "source": [
        "# 6. Creation of CNN"
      ],
      "metadata": {
        "id": "jqAq7AD1qZD5"
      }
    },
    {
      "cell_type": "code",
      "source": [
        "num_classes = 10\n",
        "num_conv_layers = 2\n",
        "num_filters = 64\n",
        "kernel_size = (5, 5)\n",
        "strides = (1, 1)\n",
        "mlp_num_hidden_layers = 2\n",
        "mlp_units_per_layer = 128\n",
        "activation = 'relu'\n",
        "dropout_rate = 0.4\n",
        "\n",
        "x_train_cnn = np.reshape(x_train_normalized, (x_train_normalized.shape[0], 28,28,1))\n",
        "x_test_cnn = np.reshape(x_test_normalized, (x_test_normalized.shape[0], 28,28,1))\n",
        "\n",
        "cnn = tf.keras.Sequential(name='my-cnn')\n",
        "cnn.add(tf.keras.layers.Input((28, 28, 1), name='input_layer'))\n",
        "\n",
        "# CNN\n",
        "for i in range(num_conv_layers):\n",
        "    cnn.add(\n",
        "        tf.keras.layers.Conv2D(\n",
        "            filters=num_filters,\n",
        "            kernel_size=kernel_size,\n",
        "            strides=strides,\n",
        "            activation=activation,\n",
        "            name=f'conv_layer_{i+1}'\n",
        "        )\n",
        "    )\n",
        "    cnn.add(tf.keras.layers.Dropout(rate=0.4, name=f'dropout_{i+1}'))\n",
        "    cnn.add(tf.keras.layers.MaxPooling2D(name=f'maxpool_{i+1}'))\n",
        "\n",
        "# Flattening\n",
        "cnn.add(tf.keras.layers.Flatten())\n",
        "\n",
        "# MLP\n",
        "for i in range(mlp_num_hidden_layers):\n",
        "    cnn.add(tf.keras.layers.Dense(units=mlp_units_per_layer, activation=activation, name=f'hidden_layer_{i+1}'))\n",
        "cnn.add(tf.keras.layers.Dense(units=num_classes, activation='softmax', name='output_layer'))\n",
        "cnn.summary()"
      ],
      "metadata": {
        "colab": {
          "base_uri": "https://localhost:8080/",
          "height": 467
        },
        "id": "6iT26sChqO0W",
        "outputId": "28981a09-d58e-4bf8-cf95-5c84c11c4c82"
      },
      "execution_count": null,
      "outputs": [
        {
          "output_type": "display_data",
          "data": {
            "text/plain": [
              "\u001b[1mModel: \"my-cnn\"\u001b[0m\n"
            ],
            "text/html": [
              "<pre style=\"white-space:pre;overflow-x:auto;line-height:normal;font-family:Menlo,'DejaVu Sans Mono',consolas,'Courier New',monospace\"><span style=\"font-weight: bold\">Model: \"my-cnn\"</span>\n",
              "</pre>\n"
            ]
          },
          "metadata": {}
        },
        {
          "output_type": "display_data",
          "data": {
            "text/plain": [
              "┏━━━━━━━━━━━━━━━━━━━━━━━━━━━━━━━━━━━━━━┳━━━━━━━━━━━━━━━━━━━━━━━━━━━━━┳━━━━━━━━━━━━━━━━━┓\n",
              "┃\u001b[1m \u001b[0m\u001b[1mLayer (type)                        \u001b[0m\u001b[1m \u001b[0m┃\u001b[1m \u001b[0m\u001b[1mOutput Shape               \u001b[0m\u001b[1m \u001b[0m┃\u001b[1m \u001b[0m\u001b[1m        Param #\u001b[0m\u001b[1m \u001b[0m┃\n",
              "┡━━━━━━━━━━━━━━━━━━━━━━━━━━━━━━━━━━━━━━╇━━━━━━━━━━━━━━━━━━━━━━━━━━━━━╇━━━━━━━━━━━━━━━━━┩\n",
              "│ conv_layer_1 (\u001b[38;5;33mConv2D\u001b[0m)                │ (\u001b[38;5;45mNone\u001b[0m, \u001b[38;5;34m24\u001b[0m, \u001b[38;5;34m24\u001b[0m, \u001b[38;5;34m64\u001b[0m)          │           \u001b[38;5;34m1,664\u001b[0m │\n",
              "├──────────────────────────────────────┼─────────────────────────────┼─────────────────┤\n",
              "│ dropout_1 (\u001b[38;5;33mDropout\u001b[0m)                  │ (\u001b[38;5;45mNone\u001b[0m, \u001b[38;5;34m24\u001b[0m, \u001b[38;5;34m24\u001b[0m, \u001b[38;5;34m64\u001b[0m)          │               \u001b[38;5;34m0\u001b[0m │\n",
              "├──────────────────────────────────────┼─────────────────────────────┼─────────────────┤\n",
              "│ maxpool_1 (\u001b[38;5;33mMaxPooling2D\u001b[0m)             │ (\u001b[38;5;45mNone\u001b[0m, \u001b[38;5;34m12\u001b[0m, \u001b[38;5;34m12\u001b[0m, \u001b[38;5;34m64\u001b[0m)          │               \u001b[38;5;34m0\u001b[0m │\n",
              "├──────────────────────────────────────┼─────────────────────────────┼─────────────────┤\n",
              "│ conv_layer_2 (\u001b[38;5;33mConv2D\u001b[0m)                │ (\u001b[38;5;45mNone\u001b[0m, \u001b[38;5;34m8\u001b[0m, \u001b[38;5;34m8\u001b[0m, \u001b[38;5;34m64\u001b[0m)            │         \u001b[38;5;34m102,464\u001b[0m │\n",
              "├──────────────────────────────────────┼─────────────────────────────┼─────────────────┤\n",
              "│ dropout_2 (\u001b[38;5;33mDropout\u001b[0m)                  │ (\u001b[38;5;45mNone\u001b[0m, \u001b[38;5;34m8\u001b[0m, \u001b[38;5;34m8\u001b[0m, \u001b[38;5;34m64\u001b[0m)            │               \u001b[38;5;34m0\u001b[0m │\n",
              "├──────────────────────────────────────┼─────────────────────────────┼─────────────────┤\n",
              "│ maxpool_2 (\u001b[38;5;33mMaxPooling2D\u001b[0m)             │ (\u001b[38;5;45mNone\u001b[0m, \u001b[38;5;34m4\u001b[0m, \u001b[38;5;34m4\u001b[0m, \u001b[38;5;34m64\u001b[0m)            │               \u001b[38;5;34m0\u001b[0m │\n",
              "├──────────────────────────────────────┼─────────────────────────────┼─────────────────┤\n",
              "│ flatten_5 (\u001b[38;5;33mFlatten\u001b[0m)                  │ (\u001b[38;5;45mNone\u001b[0m, \u001b[38;5;34m1024\u001b[0m)                │               \u001b[38;5;34m0\u001b[0m │\n",
              "├──────────────────────────────────────┼─────────────────────────────┼─────────────────┤\n",
              "│ hidden_layer_1 (\u001b[38;5;33mDense\u001b[0m)               │ (\u001b[38;5;45mNone\u001b[0m, \u001b[38;5;34m128\u001b[0m)                 │         \u001b[38;5;34m131,200\u001b[0m │\n",
              "├──────────────────────────────────────┼─────────────────────────────┼─────────────────┤\n",
              "│ hidden_layer_2 (\u001b[38;5;33mDense\u001b[0m)               │ (\u001b[38;5;45mNone\u001b[0m, \u001b[38;5;34m128\u001b[0m)                 │          \u001b[38;5;34m16,512\u001b[0m │\n",
              "├──────────────────────────────────────┼─────────────────────────────┼─────────────────┤\n",
              "│ output_layer (\u001b[38;5;33mDense\u001b[0m)                 │ (\u001b[38;5;45mNone\u001b[0m, \u001b[38;5;34m10\u001b[0m)                  │           \u001b[38;5;34m1,290\u001b[0m │\n",
              "└──────────────────────────────────────┴─────────────────────────────┴─────────────────┘\n"
            ],
            "text/html": [
              "<pre style=\"white-space:pre;overflow-x:auto;line-height:normal;font-family:Menlo,'DejaVu Sans Mono',consolas,'Courier New',monospace\">┏━━━━━━━━━━━━━━━━━━━━━━━━━━━━━━━━━━━━━━┳━━━━━━━━━━━━━━━━━━━━━━━━━━━━━┳━━━━━━━━━━━━━━━━━┓\n",
              "┃<span style=\"font-weight: bold\"> Layer (type)                         </span>┃<span style=\"font-weight: bold\"> Output Shape                </span>┃<span style=\"font-weight: bold\">         Param # </span>┃\n",
              "┡━━━━━━━━━━━━━━━━━━━━━━━━━━━━━━━━━━━━━━╇━━━━━━━━━━━━━━━━━━━━━━━━━━━━━╇━━━━━━━━━━━━━━━━━┩\n",
              "│ conv_layer_1 (<span style=\"color: #0087ff; text-decoration-color: #0087ff\">Conv2D</span>)                │ (<span style=\"color: #00d7ff; text-decoration-color: #00d7ff\">None</span>, <span style=\"color: #00af00; text-decoration-color: #00af00\">24</span>, <span style=\"color: #00af00; text-decoration-color: #00af00\">24</span>, <span style=\"color: #00af00; text-decoration-color: #00af00\">64</span>)          │           <span style=\"color: #00af00; text-decoration-color: #00af00\">1,664</span> │\n",
              "├──────────────────────────────────────┼─────────────────────────────┼─────────────────┤\n",
              "│ dropout_1 (<span style=\"color: #0087ff; text-decoration-color: #0087ff\">Dropout</span>)                  │ (<span style=\"color: #00d7ff; text-decoration-color: #00d7ff\">None</span>, <span style=\"color: #00af00; text-decoration-color: #00af00\">24</span>, <span style=\"color: #00af00; text-decoration-color: #00af00\">24</span>, <span style=\"color: #00af00; text-decoration-color: #00af00\">64</span>)          │               <span style=\"color: #00af00; text-decoration-color: #00af00\">0</span> │\n",
              "├──────────────────────────────────────┼─────────────────────────────┼─────────────────┤\n",
              "│ maxpool_1 (<span style=\"color: #0087ff; text-decoration-color: #0087ff\">MaxPooling2D</span>)             │ (<span style=\"color: #00d7ff; text-decoration-color: #00d7ff\">None</span>, <span style=\"color: #00af00; text-decoration-color: #00af00\">12</span>, <span style=\"color: #00af00; text-decoration-color: #00af00\">12</span>, <span style=\"color: #00af00; text-decoration-color: #00af00\">64</span>)          │               <span style=\"color: #00af00; text-decoration-color: #00af00\">0</span> │\n",
              "├──────────────────────────────────────┼─────────────────────────────┼─────────────────┤\n",
              "│ conv_layer_2 (<span style=\"color: #0087ff; text-decoration-color: #0087ff\">Conv2D</span>)                │ (<span style=\"color: #00d7ff; text-decoration-color: #00d7ff\">None</span>, <span style=\"color: #00af00; text-decoration-color: #00af00\">8</span>, <span style=\"color: #00af00; text-decoration-color: #00af00\">8</span>, <span style=\"color: #00af00; text-decoration-color: #00af00\">64</span>)            │         <span style=\"color: #00af00; text-decoration-color: #00af00\">102,464</span> │\n",
              "├──────────────────────────────────────┼─────────────────────────────┼─────────────────┤\n",
              "│ dropout_2 (<span style=\"color: #0087ff; text-decoration-color: #0087ff\">Dropout</span>)                  │ (<span style=\"color: #00d7ff; text-decoration-color: #00d7ff\">None</span>, <span style=\"color: #00af00; text-decoration-color: #00af00\">8</span>, <span style=\"color: #00af00; text-decoration-color: #00af00\">8</span>, <span style=\"color: #00af00; text-decoration-color: #00af00\">64</span>)            │               <span style=\"color: #00af00; text-decoration-color: #00af00\">0</span> │\n",
              "├──────────────────────────────────────┼─────────────────────────────┼─────────────────┤\n",
              "│ maxpool_2 (<span style=\"color: #0087ff; text-decoration-color: #0087ff\">MaxPooling2D</span>)             │ (<span style=\"color: #00d7ff; text-decoration-color: #00d7ff\">None</span>, <span style=\"color: #00af00; text-decoration-color: #00af00\">4</span>, <span style=\"color: #00af00; text-decoration-color: #00af00\">4</span>, <span style=\"color: #00af00; text-decoration-color: #00af00\">64</span>)            │               <span style=\"color: #00af00; text-decoration-color: #00af00\">0</span> │\n",
              "├──────────────────────────────────────┼─────────────────────────────┼─────────────────┤\n",
              "│ flatten_5 (<span style=\"color: #0087ff; text-decoration-color: #0087ff\">Flatten</span>)                  │ (<span style=\"color: #00d7ff; text-decoration-color: #00d7ff\">None</span>, <span style=\"color: #00af00; text-decoration-color: #00af00\">1024</span>)                │               <span style=\"color: #00af00; text-decoration-color: #00af00\">0</span> │\n",
              "├──────────────────────────────────────┼─────────────────────────────┼─────────────────┤\n",
              "│ hidden_layer_1 (<span style=\"color: #0087ff; text-decoration-color: #0087ff\">Dense</span>)               │ (<span style=\"color: #00d7ff; text-decoration-color: #00d7ff\">None</span>, <span style=\"color: #00af00; text-decoration-color: #00af00\">128</span>)                 │         <span style=\"color: #00af00; text-decoration-color: #00af00\">131,200</span> │\n",
              "├──────────────────────────────────────┼─────────────────────────────┼─────────────────┤\n",
              "│ hidden_layer_2 (<span style=\"color: #0087ff; text-decoration-color: #0087ff\">Dense</span>)               │ (<span style=\"color: #00d7ff; text-decoration-color: #00d7ff\">None</span>, <span style=\"color: #00af00; text-decoration-color: #00af00\">128</span>)                 │          <span style=\"color: #00af00; text-decoration-color: #00af00\">16,512</span> │\n",
              "├──────────────────────────────────────┼─────────────────────────────┼─────────────────┤\n",
              "│ output_layer (<span style=\"color: #0087ff; text-decoration-color: #0087ff\">Dense</span>)                 │ (<span style=\"color: #00d7ff; text-decoration-color: #00d7ff\">None</span>, <span style=\"color: #00af00; text-decoration-color: #00af00\">10</span>)                  │           <span style=\"color: #00af00; text-decoration-color: #00af00\">1,290</span> │\n",
              "└──────────────────────────────────────┴─────────────────────────────┴─────────────────┘\n",
              "</pre>\n"
            ]
          },
          "metadata": {}
        },
        {
          "output_type": "display_data",
          "data": {
            "text/plain": [
              "\u001b[1m Total params: \u001b[0m\u001b[38;5;34m253,130\u001b[0m (988.79 KB)\n"
            ],
            "text/html": [
              "<pre style=\"white-space:pre;overflow-x:auto;line-height:normal;font-family:Menlo,'DejaVu Sans Mono',consolas,'Courier New',monospace\"><span style=\"font-weight: bold\"> Total params: </span><span style=\"color: #00af00; text-decoration-color: #00af00\">253,130</span> (988.79 KB)\n",
              "</pre>\n"
            ]
          },
          "metadata": {}
        },
        {
          "output_type": "display_data",
          "data": {
            "text/plain": [
              "\u001b[1m Trainable params: \u001b[0m\u001b[38;5;34m253,130\u001b[0m (988.79 KB)\n"
            ],
            "text/html": [
              "<pre style=\"white-space:pre;overflow-x:auto;line-height:normal;font-family:Menlo,'DejaVu Sans Mono',consolas,'Courier New',monospace\"><span style=\"font-weight: bold\"> Trainable params: </span><span style=\"color: #00af00; text-decoration-color: #00af00\">253,130</span> (988.79 KB)\n",
              "</pre>\n"
            ]
          },
          "metadata": {}
        },
        {
          "output_type": "display_data",
          "data": {
            "text/plain": [
              "\u001b[1m Non-trainable params: \u001b[0m\u001b[38;5;34m0\u001b[0m (0.00 B)\n"
            ],
            "text/html": [
              "<pre style=\"white-space:pre;overflow-x:auto;line-height:normal;font-family:Menlo,'DejaVu Sans Mono',consolas,'Courier New',monospace\"><span style=\"font-weight: bold\"> Non-trainable params: </span><span style=\"color: #00af00; text-decoration-color: #00af00\">0</span> (0.00 B)\n",
              "</pre>\n"
            ]
          },
          "metadata": {}
        }
      ]
    },
    {
      "cell_type": "markdown",
      "source": [
        "This model combines a CNN with an MLP.\n",
        "\n",
        "* Input Layer: It takes grayscale images of size 28x28x1.\n",
        "* CNN Block: It has 2 convolutional layers with 64 filters of size (5x5), ReLU activation, followed by Dropout (0.4) and MaxPooling2D layers for each convolutional layer.\n",
        "* Flattening: The output of the CNN is flattened into a 1D vector.\n",
        "* MLP Block: It has 2 Dense (fully connected) layers with 128 units each and ReLU activation.\n",
        "* Output Layer: A final Dense layer with softmax activation outputs predictions for 10 classes."
      ],
      "metadata": {
        "id": "ppMhr-2vqx2P"
      }
    },
    {
      "cell_type": "markdown",
      "source": [
        "# Training & Testing"
      ],
      "metadata": {
        "id": "5TS7K2lLrKGM"
      }
    },
    {
      "cell_type": "code",
      "source": [
        "loss=tf.keras.losses.CategoricalCrossentropy()\n",
        "# optimizer=tf.keras.optimizers.Adam(1e-3)\n",
        "metrics=['accuracy']\n",
        "batch_size = 32\n",
        "epochs = 50"
      ],
      "metadata": {
        "id": "TWUpBhjoOHwK"
      },
      "execution_count": null,
      "outputs": []
    },
    {
      "cell_type": "code",
      "source": [
        "x_train_normalized = x_train.reshape(-1, 28 * 28)\n",
        "x_test_normalized = x_test.reshape(-1, 28 * 28)\n",
        "\n",
        "train_dataset = tf.data.Dataset.from_tensor_slices((x_train_normalized, y_train_one_hot))\n",
        "train_dataset = train_dataset.shuffle(buffer_size=1024).batch(batch_size)\n",
        "\n",
        "test_dataset = tf.data.Dataset.from_tensor_slices((x_test_normalized, y_test_one_hot))\n",
        "test_dataset = test_dataset.batch(batch_size)\n",
        "\n",
        "device_name = tf.test.gpu_device_name()\n",
        "with tf.device(device_name):\n",
        "    mlp.compile(loss=loss,\n",
        "                optimizer=tf.keras.optimizers.Adam(1e-3),\n",
        "                metrics=['accuracy'],\n",
        "                )\n",
        "\n",
        "    history = mlp.fit(x=train_dataset, epochs=epochs, validation_data=test_dataset, verbose=1)"
      ],
      "metadata": {
        "colab": {
          "base_uri": "https://localhost:8080/"
        },
        "id": "o24dopyzrN_u",
        "outputId": "ac9c073d-be0a-4342-ce60-e3dca4226f32"
      },
      "execution_count": null,
      "outputs": [
        {
          "output_type": "stream",
          "name": "stdout",
          "text": [
            "Epoch 1/50\n",
            "\u001b[1m1875/1875\u001b[0m \u001b[32m━━━━━━━━━━━━━━━━━━━━\u001b[0m\u001b[37m\u001b[0m \u001b[1m5s\u001b[0m 2ms/step - accuracy: 0.8344 - loss: 4.6852 - val_accuracy: 0.9231 - val_loss: 0.4588\n",
            "Epoch 2/50\n",
            "\u001b[1m1875/1875\u001b[0m \u001b[32m━━━━━━━━━━━━━━━━━━━━\u001b[0m\u001b[37m\u001b[0m \u001b[1m4s\u001b[0m 2ms/step - accuracy: 0.9244 - loss: 0.3857 - val_accuracy: 0.9284 - val_loss: 0.3119\n",
            "Epoch 3/50\n",
            "\u001b[1m1875/1875\u001b[0m \u001b[32m━━━━━━━━━━━━━━━━━━━━\u001b[0m\u001b[37m\u001b[0m \u001b[1m4s\u001b[0m 2ms/step - accuracy: 0.9440 - loss: 0.2255 - val_accuracy: 0.9397 - val_loss: 0.2519\n",
            "Epoch 4/50\n",
            "\u001b[1m1875/1875\u001b[0m \u001b[32m━━━━━━━━━━━━━━━━━━━━\u001b[0m\u001b[37m\u001b[0m \u001b[1m4s\u001b[0m 2ms/step - accuracy: 0.9543 - loss: 0.1694 - val_accuracy: 0.9476 - val_loss: 0.1983\n",
            "Epoch 5/50\n",
            "\u001b[1m1875/1875\u001b[0m \u001b[32m━━━━━━━━━━━━━━━━━━━━\u001b[0m\u001b[37m\u001b[0m \u001b[1m5s\u001b[0m 2ms/step - accuracy: 0.9604 - loss: 0.1412 - val_accuracy: 0.9462 - val_loss: 0.1958\n",
            "Epoch 6/50\n",
            "\u001b[1m1875/1875\u001b[0m \u001b[32m━━━━━━━━━━━━━━━━━━━━\u001b[0m\u001b[37m\u001b[0m \u001b[1m5s\u001b[0m 2ms/step - accuracy: 0.9649 - loss: 0.1290 - val_accuracy: 0.9539 - val_loss: 0.1917\n",
            "Epoch 7/50\n",
            "\u001b[1m1875/1875\u001b[0m \u001b[32m━━━━━━━━━━━━━━━━━━━━\u001b[0m\u001b[37m\u001b[0m \u001b[1m5s\u001b[0m 2ms/step - accuracy: 0.9689 - loss: 0.1141 - val_accuracy: 0.9488 - val_loss: 0.2431\n",
            "Epoch 8/50\n",
            "\u001b[1m1875/1875\u001b[0m \u001b[32m━━━━━━━━━━━━━━━━━━━━\u001b[0m\u001b[37m\u001b[0m \u001b[1m4s\u001b[0m 2ms/step - accuracy: 0.9709 - loss: 0.1115 - val_accuracy: 0.9621 - val_loss: 0.1777\n",
            "Epoch 9/50\n",
            "\u001b[1m1875/1875\u001b[0m \u001b[32m━━━━━━━━━━━━━━━━━━━━\u001b[0m\u001b[37m\u001b[0m \u001b[1m3s\u001b[0m 2ms/step - accuracy: 0.9720 - loss: 0.1064 - val_accuracy: 0.9603 - val_loss: 0.1694\n",
            "Epoch 10/50\n",
            "\u001b[1m1875/1875\u001b[0m \u001b[32m━━━━━━━━━━━━━━━━━━━━\u001b[0m\u001b[37m\u001b[0m \u001b[1m3s\u001b[0m 2ms/step - accuracy: 0.9743 - loss: 0.0927 - val_accuracy: 0.9676 - val_loss: 0.1474\n",
            "Epoch 11/50\n",
            "\u001b[1m1875/1875\u001b[0m \u001b[32m━━━━━━━━━━━━━━━━━━━━\u001b[0m\u001b[37m\u001b[0m \u001b[1m6s\u001b[0m 2ms/step - accuracy: 0.9770 - loss: 0.0876 - val_accuracy: 0.9665 - val_loss: 0.1681\n",
            "Epoch 12/50\n",
            "\u001b[1m1875/1875\u001b[0m \u001b[32m━━━━━━━━━━━━━━━━━━━━\u001b[0m\u001b[37m\u001b[0m \u001b[1m4s\u001b[0m 2ms/step - accuracy: 0.9796 - loss: 0.0775 - val_accuracy: 0.9653 - val_loss: 0.1690\n",
            "Epoch 13/50\n",
            "\u001b[1m1875/1875\u001b[0m \u001b[32m━━━━━━━━━━━━━━━━━━━━\u001b[0m\u001b[37m\u001b[0m \u001b[1m3s\u001b[0m 2ms/step - accuracy: 0.9791 - loss: 0.0813 - val_accuracy: 0.9659 - val_loss: 0.1998\n",
            "Epoch 14/50\n",
            "\u001b[1m1875/1875\u001b[0m \u001b[32m━━━━━━━━━━━━━━━━━━━━\u001b[0m\u001b[37m\u001b[0m \u001b[1m6s\u001b[0m 2ms/step - accuracy: 0.9784 - loss: 0.0814 - val_accuracy: 0.9639 - val_loss: 0.2237\n",
            "Epoch 15/50\n",
            "\u001b[1m1875/1875\u001b[0m \u001b[32m━━━━━━━━━━━━━━━━━━━━\u001b[0m\u001b[37m\u001b[0m \u001b[1m4s\u001b[0m 2ms/step - accuracy: 0.9811 - loss: 0.0778 - val_accuracy: 0.9615 - val_loss: 0.2457\n",
            "Epoch 16/50\n",
            "\u001b[1m1875/1875\u001b[0m \u001b[32m━━━━━━━━━━━━━━━━━━━━\u001b[0m\u001b[37m\u001b[0m \u001b[1m3s\u001b[0m 2ms/step - accuracy: 0.9806 - loss: 0.0804 - val_accuracy: 0.9659 - val_loss: 0.1873\n",
            "Epoch 17/50\n",
            "\u001b[1m1875/1875\u001b[0m \u001b[32m━━━━━━━━━━━━━━━━━━━━\u001b[0m\u001b[37m\u001b[0m \u001b[1m6s\u001b[0m 2ms/step - accuracy: 0.9834 - loss: 0.0648 - val_accuracy: 0.9656 - val_loss: 0.1951\n",
            "Epoch 18/50\n",
            "\u001b[1m1875/1875\u001b[0m \u001b[32m━━━━━━━━━━━━━━━━━━━━\u001b[0m\u001b[37m\u001b[0m \u001b[1m4s\u001b[0m 2ms/step - accuracy: 0.9834 - loss: 0.0649 - val_accuracy: 0.9715 - val_loss: 0.1912\n",
            "Epoch 19/50\n",
            "\u001b[1m1875/1875\u001b[0m \u001b[32m━━━━━━━━━━━━━━━━━━━━\u001b[0m\u001b[37m\u001b[0m \u001b[1m5s\u001b[0m 2ms/step - accuracy: 0.9842 - loss: 0.0628 - val_accuracy: 0.9653 - val_loss: 0.2044\n",
            "Epoch 20/50\n",
            "\u001b[1m1875/1875\u001b[0m \u001b[32m━━━━━━━━━━━━━━━━━━━━\u001b[0m\u001b[37m\u001b[0m \u001b[1m5s\u001b[0m 2ms/step - accuracy: 0.9823 - loss: 0.0732 - val_accuracy: 0.9694 - val_loss: 0.2098\n",
            "Epoch 21/50\n",
            "\u001b[1m1875/1875\u001b[0m \u001b[32m━━━━━━━━━━━━━━━━━━━━\u001b[0m\u001b[37m\u001b[0m \u001b[1m4s\u001b[0m 2ms/step - accuracy: 0.9851 - loss: 0.0568 - val_accuracy: 0.9697 - val_loss: 0.2072\n",
            "Epoch 22/50\n",
            "\u001b[1m1875/1875\u001b[0m \u001b[32m━━━━━━━━━━━━━━━━━━━━\u001b[0m\u001b[37m\u001b[0m \u001b[1m6s\u001b[0m 2ms/step - accuracy: 0.9843 - loss: 0.0629 - val_accuracy: 0.9666 - val_loss: 0.2728\n",
            "Epoch 23/50\n",
            "\u001b[1m1875/1875\u001b[0m \u001b[32m━━━━━━━━━━━━━━━━━━━━\u001b[0m\u001b[37m\u001b[0m \u001b[1m4s\u001b[0m 2ms/step - accuracy: 0.9854 - loss: 0.0611 - val_accuracy: 0.9704 - val_loss: 0.2499\n",
            "Epoch 24/50\n",
            "\u001b[1m1875/1875\u001b[0m \u001b[32m━━━━━━━━━━━━━━━━━━━━\u001b[0m\u001b[37m\u001b[0m \u001b[1m5s\u001b[0m 2ms/step - accuracy: 0.9835 - loss: 0.0755 - val_accuracy: 0.9687 - val_loss: 0.2297\n",
            "Epoch 25/50\n",
            "\u001b[1m1875/1875\u001b[0m \u001b[32m━━━━━━━━━━━━━━━━━━━━\u001b[0m\u001b[37m\u001b[0m \u001b[1m5s\u001b[0m 2ms/step - accuracy: 0.9851 - loss: 0.0637 - val_accuracy: 0.9560 - val_loss: 0.3247\n",
            "Epoch 26/50\n",
            "\u001b[1m1875/1875\u001b[0m \u001b[32m━━━━━━━━━━━━━━━━━━━━\u001b[0m\u001b[37m\u001b[0m \u001b[1m3s\u001b[0m 2ms/step - accuracy: 0.9843 - loss: 0.0711 - val_accuracy: 0.9719 - val_loss: 0.2056\n",
            "Epoch 27/50\n",
            "\u001b[1m1875/1875\u001b[0m \u001b[32m━━━━━━━━━━━━━━━━━━━━\u001b[0m\u001b[37m\u001b[0m \u001b[1m4s\u001b[0m 2ms/step - accuracy: 0.9874 - loss: 0.0518 - val_accuracy: 0.9623 - val_loss: 0.3620\n",
            "Epoch 28/50\n",
            "\u001b[1m1875/1875\u001b[0m \u001b[32m━━━━━━━━━━━━━━━━━━━━\u001b[0m\u001b[37m\u001b[0m \u001b[1m5s\u001b[0m 2ms/step - accuracy: 0.9874 - loss: 0.0513 - val_accuracy: 0.9686 - val_loss: 0.2687\n",
            "Epoch 29/50\n",
            "\u001b[1m1875/1875\u001b[0m \u001b[32m━━━━━━━━━━━━━━━━━━━━\u001b[0m\u001b[37m\u001b[0m \u001b[1m5s\u001b[0m 2ms/step - accuracy: 0.9850 - loss: 0.0705 - val_accuracy: 0.9719 - val_loss: 0.2372\n",
            "Epoch 30/50\n",
            "\u001b[1m1875/1875\u001b[0m \u001b[32m━━━━━━━━━━━━━━━━━━━━\u001b[0m\u001b[37m\u001b[0m \u001b[1m3s\u001b[0m 2ms/step - accuracy: 0.9878 - loss: 0.0517 - val_accuracy: 0.9670 - val_loss: 0.3197\n",
            "Epoch 31/50\n",
            "\u001b[1m1875/1875\u001b[0m \u001b[32m━━━━━━━━━━━━━━━━━━━━\u001b[0m\u001b[37m\u001b[0m \u001b[1m4s\u001b[0m 2ms/step - accuracy: 0.9866 - loss: 0.0642 - val_accuracy: 0.9687 - val_loss: 0.2806\n",
            "Epoch 32/50\n",
            "\u001b[1m1875/1875\u001b[0m \u001b[32m━━━━━━━━━━━━━━━━━━━━\u001b[0m\u001b[37m\u001b[0m \u001b[1m3s\u001b[0m 2ms/step - accuracy: 0.9886 - loss: 0.0536 - val_accuracy: 0.9636 - val_loss: 0.3930\n",
            "Epoch 33/50\n",
            "\u001b[1m1875/1875\u001b[0m \u001b[32m━━━━━━━━━━━━━━━━━━━━\u001b[0m\u001b[37m\u001b[0m \u001b[1m5s\u001b[0m 2ms/step - accuracy: 0.9893 - loss: 0.0520 - val_accuracy: 0.9673 - val_loss: 0.4141\n",
            "Epoch 34/50\n",
            "\u001b[1m1875/1875\u001b[0m \u001b[32m━━━━━━━━━━━━━━━━━━━━\u001b[0m\u001b[37m\u001b[0m \u001b[1m5s\u001b[0m 2ms/step - accuracy: 0.9856 - loss: 0.0717 - val_accuracy: 0.9626 - val_loss: 0.3627\n",
            "Epoch 35/50\n",
            "\u001b[1m1875/1875\u001b[0m \u001b[32m━━━━━━━━━━━━━━━━━━━━\u001b[0m\u001b[37m\u001b[0m \u001b[1m5s\u001b[0m 2ms/step - accuracy: 0.9866 - loss: 0.0581 - val_accuracy: 0.9701 - val_loss: 0.3187\n",
            "Epoch 36/50\n",
            "\u001b[1m1875/1875\u001b[0m \u001b[32m━━━━━━━━━━━━━━━━━━━━\u001b[0m\u001b[37m\u001b[0m \u001b[1m4s\u001b[0m 2ms/step - accuracy: 0.9887 - loss: 0.0584 - val_accuracy: 0.9701 - val_loss: 0.3035\n",
            "Epoch 37/50\n",
            "\u001b[1m1875/1875\u001b[0m \u001b[32m━━━━━━━━━━━━━━━━━━━━\u001b[0m\u001b[37m\u001b[0m \u001b[1m4s\u001b[0m 2ms/step - accuracy: 0.9888 - loss: 0.0473 - val_accuracy: 0.9735 - val_loss: 0.2854\n",
            "Epoch 38/50\n",
            "\u001b[1m1875/1875\u001b[0m \u001b[32m━━━━━━━━━━━━━━━━━━━━\u001b[0m\u001b[37m\u001b[0m \u001b[1m3s\u001b[0m 2ms/step - accuracy: 0.9896 - loss: 0.0531 - val_accuracy: 0.9710 - val_loss: 0.2967\n",
            "Epoch 39/50\n",
            "\u001b[1m1875/1875\u001b[0m \u001b[32m━━━━━━━━━━━━━━━━━━━━\u001b[0m\u001b[37m\u001b[0m \u001b[1m4s\u001b[0m 2ms/step - accuracy: 0.9886 - loss: 0.0498 - val_accuracy: 0.9730 - val_loss: 0.3545\n",
            "Epoch 40/50\n",
            "\u001b[1m1875/1875\u001b[0m \u001b[32m━━━━━━━━━━━━━━━━━━━━\u001b[0m\u001b[37m\u001b[0m \u001b[1m4s\u001b[0m 2ms/step - accuracy: 0.9875 - loss: 0.0625 - val_accuracy: 0.9724 - val_loss: 0.2930\n",
            "Epoch 41/50\n",
            "\u001b[1m1875/1875\u001b[0m \u001b[32m━━━━━━━━━━━━━━━━━━━━\u001b[0m\u001b[37m\u001b[0m \u001b[1m4s\u001b[0m 2ms/step - accuracy: 0.9881 - loss: 0.0581 - val_accuracy: 0.9723 - val_loss: 0.3139\n",
            "Epoch 42/50\n",
            "\u001b[1m1875/1875\u001b[0m \u001b[32m━━━━━━━━━━━━━━━━━━━━\u001b[0m\u001b[37m\u001b[0m \u001b[1m6s\u001b[0m 2ms/step - accuracy: 0.9891 - loss: 0.0458 - val_accuracy: 0.9687 - val_loss: 0.4690\n",
            "Epoch 43/50\n",
            "\u001b[1m1875/1875\u001b[0m \u001b[32m━━━━━━━━━━━━━━━━━━━━\u001b[0m\u001b[37m\u001b[0m \u001b[1m4s\u001b[0m 2ms/step - accuracy: 0.9875 - loss: 0.0598 - val_accuracy: 0.9721 - val_loss: 0.4295\n",
            "Epoch 44/50\n",
            "\u001b[1m1875/1875\u001b[0m \u001b[32m━━━━━━━━━━━━━━━━━━━━\u001b[0m\u001b[37m\u001b[0m \u001b[1m3s\u001b[0m 2ms/step - accuracy: 0.9900 - loss: 0.0510 - val_accuracy: 0.9696 - val_loss: 0.3974\n",
            "Epoch 45/50\n",
            "\u001b[1m1875/1875\u001b[0m \u001b[32m━━━━━━━━━━━━━━━━━━━━\u001b[0m\u001b[37m\u001b[0m \u001b[1m6s\u001b[0m 2ms/step - accuracy: 0.9876 - loss: 0.0567 - val_accuracy: 0.9664 - val_loss: 0.4355\n",
            "Epoch 46/50\n",
            "\u001b[1m1875/1875\u001b[0m \u001b[32m━━━━━━━━━━━━━━━━━━━━\u001b[0m\u001b[37m\u001b[0m \u001b[1m4s\u001b[0m 2ms/step - accuracy: 0.9889 - loss: 0.0517 - val_accuracy: 0.9696 - val_loss: 0.3707\n",
            "Epoch 47/50\n",
            "\u001b[1m1875/1875\u001b[0m \u001b[32m━━━━━━━━━━━━━━━━━━━━\u001b[0m\u001b[37m\u001b[0m \u001b[1m5s\u001b[0m 2ms/step - accuracy: 0.9902 - loss: 0.0432 - val_accuracy: 0.9712 - val_loss: 0.4148\n",
            "Epoch 48/50\n",
            "\u001b[1m1875/1875\u001b[0m \u001b[32m━━━━━━━━━━━━━━━━━━━━\u001b[0m\u001b[37m\u001b[0m \u001b[1m5s\u001b[0m 2ms/step - accuracy: 0.9890 - loss: 0.0545 - val_accuracy: 0.9699 - val_loss: 0.3512\n",
            "Epoch 49/50\n",
            "\u001b[1m1875/1875\u001b[0m \u001b[32m━━━━━━━━━━━━━━━━━━━━\u001b[0m\u001b[37m\u001b[0m \u001b[1m3s\u001b[0m 2ms/step - accuracy: 0.9899 - loss: 0.0458 - val_accuracy: 0.9677 - val_loss: 0.4293\n",
            "Epoch 50/50\n",
            "\u001b[1m1875/1875\u001b[0m \u001b[32m━━━━━━━━━━━━━━━━━━━━\u001b[0m\u001b[37m\u001b[0m \u001b[1m5s\u001b[0m 2ms/step - accuracy: 0.9890 - loss: 0.0570 - val_accuracy: 0.9635 - val_loss: 0.4108\n"
          ]
        }
      ]
    },
    {
      "cell_type": "code",
      "source": [
        "train_dataset = tf.data.Dataset.from_tensor_slices((x_train_cnn, y_train_one_hot))\n",
        "train_dataset = train_dataset.shuffle(buffer_size=1024).batch(batch_size)\n",
        "\n",
        "test_dataset = tf.data.Dataset.from_tensor_slices((x_test_cnn, y_test_one_hot))\n",
        "test_dataset = test_dataset.batch(batch_size)\n",
        "\n",
        "with tf.device(device_name):\n",
        "    cnn.compile(loss=loss,\n",
        "                optimizer=tf.keras.optimizers.Adam(1e-3),\n",
        "                metrics=['accuracy'],\n",
        "                )\n",
        "\n",
        "    history = cnn.fit(x=train_dataset, epochs=epochs, validation_data=test_dataset, verbose=1)"
      ],
      "metadata": {
        "colab": {
          "base_uri": "https://localhost:8080/"
        },
        "id": "h7pI5eeFOpDz",
        "outputId": "7d87e521-a344-4175-a3f6-2e6b3c3ece9d"
      },
      "execution_count": null,
      "outputs": [
        {
          "output_type": "stream",
          "name": "stdout",
          "text": [
            "Epoch 1/50\n",
            "\u001b[1m1875/1875\u001b[0m \u001b[32m━━━━━━━━━━━━━━━━━━━━\u001b[0m\u001b[37m\u001b[0m \u001b[1m10s\u001b[0m 3ms/step - accuracy: 0.9068 - loss: 0.2852 - val_accuracy: 0.9843 - val_loss: 0.0970\n",
            "Epoch 2/50\n",
            "\u001b[1m1875/1875\u001b[0m \u001b[32m━━━━━━━━━━━━━━━━━━━━\u001b[0m\u001b[37m\u001b[0m \u001b[1m7s\u001b[0m 3ms/step - accuracy: 0.9832 - loss: 0.0570 - val_accuracy: 0.9877 - val_loss: 0.0674\n",
            "Epoch 3/50\n",
            "\u001b[1m1875/1875\u001b[0m \u001b[32m━━━━━━━━━━━━━━━━━━━━\u001b[0m\u001b[37m\u001b[0m \u001b[1m6s\u001b[0m 3ms/step - accuracy: 0.9869 - loss: 0.0446 - val_accuracy: 0.9881 - val_loss: 0.0523\n",
            "Epoch 4/50\n",
            "\u001b[1m1875/1875\u001b[0m \u001b[32m━━━━━━━━━━━━━━━━━━━━\u001b[0m\u001b[37m\u001b[0m \u001b[1m5s\u001b[0m 3ms/step - accuracy: 0.9892 - loss: 0.0353 - val_accuracy: 0.9911 - val_loss: 0.0406\n",
            "Epoch 5/50\n",
            "\u001b[1m1875/1875\u001b[0m \u001b[32m━━━━━━━━━━━━━━━━━━━━\u001b[0m\u001b[37m\u001b[0m \u001b[1m5s\u001b[0m 3ms/step - accuracy: 0.9902 - loss: 0.0306 - val_accuracy: 0.9919 - val_loss: 0.0418\n",
            "Epoch 6/50\n",
            "\u001b[1m1875/1875\u001b[0m \u001b[32m━━━━━━━━━━━━━━━━━━━━\u001b[0m\u001b[37m\u001b[0m \u001b[1m10s\u001b[0m 3ms/step - accuracy: 0.9920 - loss: 0.0268 - val_accuracy: 0.9908 - val_loss: 0.0333\n",
            "Epoch 7/50\n",
            "\u001b[1m1875/1875\u001b[0m \u001b[32m━━━━━━━━━━━━━━━━━━━━\u001b[0m\u001b[37m\u001b[0m \u001b[1m6s\u001b[0m 3ms/step - accuracy: 0.9927 - loss: 0.0240 - val_accuracy: 0.9910 - val_loss: 0.0370\n",
            "Epoch 8/50\n",
            "\u001b[1m1875/1875\u001b[0m \u001b[32m━━━━━━━━━━━━━━━━━━━━\u001b[0m\u001b[37m\u001b[0m \u001b[1m5s\u001b[0m 3ms/step - accuracy: 0.9930 - loss: 0.0234 - val_accuracy: 0.9917 - val_loss: 0.0322\n",
            "Epoch 9/50\n",
            "\u001b[1m1875/1875\u001b[0m \u001b[32m━━━━━━━━━━━━━━━━━━━━\u001b[0m\u001b[37m\u001b[0m \u001b[1m6s\u001b[0m 3ms/step - accuracy: 0.9943 - loss: 0.0204 - val_accuracy: 0.9926 - val_loss: 0.0264\n",
            "Epoch 10/50\n",
            "\u001b[1m1875/1875\u001b[0m \u001b[32m━━━━━━━━━━━━━━━━━━━━\u001b[0m\u001b[37m\u001b[0m \u001b[1m5s\u001b[0m 3ms/step - accuracy: 0.9943 - loss: 0.0180 - val_accuracy: 0.9906 - val_loss: 0.0381\n",
            "Epoch 11/50\n",
            "\u001b[1m1875/1875\u001b[0m \u001b[32m━━━━━━━━━━━━━━━━━━━━\u001b[0m\u001b[37m\u001b[0m \u001b[1m5s\u001b[0m 3ms/step - accuracy: 0.9948 - loss: 0.0160 - val_accuracy: 0.9914 - val_loss: 0.0280\n",
            "Epoch 12/50\n",
            "\u001b[1m1875/1875\u001b[0m \u001b[32m━━━━━━━━━━━━━━━━━━━━\u001b[0m\u001b[37m\u001b[0m \u001b[1m6s\u001b[0m 3ms/step - accuracy: 0.9947 - loss: 0.0178 - val_accuracy: 0.9887 - val_loss: 0.0362\n",
            "Epoch 13/50\n",
            "\u001b[1m1875/1875\u001b[0m \u001b[32m━━━━━━━━━━━━━━━━━━━━\u001b[0m\u001b[37m\u001b[0m \u001b[1m5s\u001b[0m 3ms/step - accuracy: 0.9948 - loss: 0.0185 - val_accuracy: 0.9929 - val_loss: 0.0265\n",
            "Epoch 14/50\n",
            "\u001b[1m1875/1875\u001b[0m \u001b[32m━━━━━━━━━━━━━━━━━━━━\u001b[0m\u001b[37m\u001b[0m \u001b[1m6s\u001b[0m 3ms/step - accuracy: 0.9955 - loss: 0.0146 - val_accuracy: 0.9922 - val_loss: 0.0257\n",
            "Epoch 15/50\n",
            "\u001b[1m1875/1875\u001b[0m \u001b[32m━━━━━━━━━━━━━━━━━━━━\u001b[0m\u001b[37m\u001b[0m \u001b[1m10s\u001b[0m 3ms/step - accuracy: 0.9955 - loss: 0.0145 - val_accuracy: 0.9939 - val_loss: 0.0215\n",
            "Epoch 16/50\n",
            "\u001b[1m1875/1875\u001b[0m \u001b[32m━━━━━━━━━━━━━━━━━━━━\u001b[0m\u001b[37m\u001b[0m \u001b[1m10s\u001b[0m 3ms/step - accuracy: 0.9960 - loss: 0.0136 - val_accuracy: 0.9922 - val_loss: 0.0266\n",
            "Epoch 17/50\n",
            "\u001b[1m1875/1875\u001b[0m \u001b[32m━━━━━━━━━━━━━━━━━━━━\u001b[0m\u001b[37m\u001b[0m \u001b[1m6s\u001b[0m 3ms/step - accuracy: 0.9959 - loss: 0.0159 - val_accuracy: 0.9933 - val_loss: 0.0263\n",
            "Epoch 18/50\n",
            "\u001b[1m1875/1875\u001b[0m \u001b[32m━━━━━━━━━━━━━━━━━━━━\u001b[0m\u001b[37m\u001b[0m \u001b[1m5s\u001b[0m 3ms/step - accuracy: 0.9959 - loss: 0.0134 - val_accuracy: 0.9929 - val_loss: 0.0245\n",
            "Epoch 19/50\n",
            "\u001b[1m1875/1875\u001b[0m \u001b[32m━━━━━━━━━━━━━━━━━━━━\u001b[0m\u001b[37m\u001b[0m \u001b[1m6s\u001b[0m 3ms/step - accuracy: 0.9964 - loss: 0.0116 - val_accuracy: 0.9918 - val_loss: 0.0284\n",
            "Epoch 20/50\n",
            "\u001b[1m1875/1875\u001b[0m \u001b[32m━━━━━━━━━━━━━━━━━━━━\u001b[0m\u001b[37m\u001b[0m \u001b[1m5s\u001b[0m 3ms/step - accuracy: 0.9953 - loss: 0.0161 - val_accuracy: 0.9925 - val_loss: 0.0266\n",
            "Epoch 21/50\n",
            "\u001b[1m1875/1875\u001b[0m \u001b[32m━━━━━━━━━━━━━━━━━━━━\u001b[0m\u001b[37m\u001b[0m \u001b[1m5s\u001b[0m 3ms/step - accuracy: 0.9965 - loss: 0.0116 - val_accuracy: 0.9928 - val_loss: 0.0241\n",
            "Epoch 22/50\n",
            "\u001b[1m1875/1875\u001b[0m \u001b[32m━━━━━━━━━━━━━━━━━━━━\u001b[0m\u001b[37m\u001b[0m \u001b[1m6s\u001b[0m 3ms/step - accuracy: 0.9970 - loss: 0.0107 - val_accuracy: 0.9922 - val_loss: 0.0265\n",
            "Epoch 23/50\n",
            "\u001b[1m1875/1875\u001b[0m \u001b[32m━━━━━━━━━━━━━━━━━━━━\u001b[0m\u001b[37m\u001b[0m \u001b[1m5s\u001b[0m 3ms/step - accuracy: 0.9960 - loss: 0.0154 - val_accuracy: 0.9918 - val_loss: 0.0321\n",
            "Epoch 24/50\n",
            "\u001b[1m1875/1875\u001b[0m \u001b[32m━━━━━━━━━━━━━━━━━━━━\u001b[0m\u001b[37m\u001b[0m \u001b[1m6s\u001b[0m 3ms/step - accuracy: 0.9969 - loss: 0.0098 - val_accuracy: 0.9938 - val_loss: 0.0239\n",
            "Epoch 25/50\n",
            "\u001b[1m1875/1875\u001b[0m \u001b[32m━━━━━━━━━━━━━━━━━━━━\u001b[0m\u001b[37m\u001b[0m \u001b[1m5s\u001b[0m 3ms/step - accuracy: 0.9963 - loss: 0.0133 - val_accuracy: 0.9933 - val_loss: 0.0272\n",
            "Epoch 26/50\n",
            "\u001b[1m1875/1875\u001b[0m \u001b[32m━━━━━━━━━━━━━━━━━━━━\u001b[0m\u001b[37m\u001b[0m \u001b[1m5s\u001b[0m 3ms/step - accuracy: 0.9966 - loss: 0.0138 - val_accuracy: 0.9934 - val_loss: 0.0254\n",
            "Epoch 27/50\n",
            "\u001b[1m1875/1875\u001b[0m \u001b[32m━━━━━━━━━━━━━━━━━━━━\u001b[0m\u001b[37m\u001b[0m \u001b[1m6s\u001b[0m 3ms/step - accuracy: 0.9968 - loss: 0.0111 - val_accuracy: 0.9920 - val_loss: 0.0341\n",
            "Epoch 28/50\n",
            "\u001b[1m1875/1875\u001b[0m \u001b[32m━━━━━━━━━━━━━━━━━━━━\u001b[0m\u001b[37m\u001b[0m \u001b[1m5s\u001b[0m 3ms/step - accuracy: 0.9966 - loss: 0.0140 - val_accuracy: 0.9932 - val_loss: 0.0246\n",
            "Epoch 29/50\n",
            "\u001b[1m1875/1875\u001b[0m \u001b[32m━━━━━━━━━━━━━━━━━━━━\u001b[0m\u001b[37m\u001b[0m \u001b[1m6s\u001b[0m 3ms/step - accuracy: 0.9963 - loss: 0.0152 - val_accuracy: 0.9931 - val_loss: 0.0253\n",
            "Epoch 30/50\n",
            "\u001b[1m1875/1875\u001b[0m \u001b[32m━━━━━━━━━━━━━━━━━━━━\u001b[0m\u001b[37m\u001b[0m \u001b[1m10s\u001b[0m 3ms/step - accuracy: 0.9968 - loss: 0.0127 - val_accuracy: 0.9925 - val_loss: 0.0291\n",
            "Epoch 31/50\n",
            "\u001b[1m1875/1875\u001b[0m \u001b[32m━━━━━━━━━━━━━━━━━━━━\u001b[0m\u001b[37m\u001b[0m \u001b[1m10s\u001b[0m 3ms/step - accuracy: 0.9970 - loss: 0.0118 - val_accuracy: 0.9928 - val_loss: 0.0309\n",
            "Epoch 32/50\n",
            "\u001b[1m1875/1875\u001b[0m \u001b[32m━━━━━━━━━━━━━━━━━━━━\u001b[0m\u001b[37m\u001b[0m \u001b[1m6s\u001b[0m 3ms/step - accuracy: 0.9966 - loss: 0.0142 - val_accuracy: 0.9931 - val_loss: 0.0274\n",
            "Epoch 33/50\n",
            "\u001b[1m1875/1875\u001b[0m \u001b[32m━━━━━━━━━━━━━━━━━━━━\u001b[0m\u001b[37m\u001b[0m \u001b[1m5s\u001b[0m 3ms/step - accuracy: 0.9969 - loss: 0.0116 - val_accuracy: 0.9921 - val_loss: 0.0300\n",
            "Epoch 34/50\n",
            "\u001b[1m1875/1875\u001b[0m \u001b[32m━━━━━━━━━━━━━━━━━━━━\u001b[0m\u001b[37m\u001b[0m \u001b[1m5s\u001b[0m 3ms/step - accuracy: 0.9972 - loss: 0.0102 - val_accuracy: 0.9934 - val_loss: 0.0307\n",
            "Epoch 35/50\n",
            "\u001b[1m1875/1875\u001b[0m \u001b[32m━━━━━━━━━━━━━━━━━━━━\u001b[0m\u001b[37m\u001b[0m \u001b[1m10s\u001b[0m 3ms/step - accuracy: 0.9972 - loss: 0.0097 - val_accuracy: 0.9920 - val_loss: 0.0353\n",
            "Epoch 36/50\n",
            "\u001b[1m1875/1875\u001b[0m \u001b[32m━━━━━━━━━━━━━━━━━━━━\u001b[0m\u001b[37m\u001b[0m \u001b[1m6s\u001b[0m 3ms/step - accuracy: 0.9961 - loss: 0.0147 - val_accuracy: 0.9938 - val_loss: 0.0306\n",
            "Epoch 37/50\n",
            "\u001b[1m1875/1875\u001b[0m \u001b[32m━━━━━━━━━━━━━━━━━━━━\u001b[0m\u001b[37m\u001b[0m \u001b[1m5s\u001b[0m 3ms/step - accuracy: 0.9976 - loss: 0.0088 - val_accuracy: 0.9937 - val_loss: 0.0314\n",
            "Epoch 38/50\n",
            "\u001b[1m1875/1875\u001b[0m \u001b[32m━━━━━━━━━━━━━━━━━━━━\u001b[0m\u001b[37m\u001b[0m \u001b[1m6s\u001b[0m 3ms/step - accuracy: 0.9977 - loss: 0.0095 - val_accuracy: 0.9933 - val_loss: 0.0299\n",
            "Epoch 39/50\n",
            "\u001b[1m1875/1875\u001b[0m \u001b[32m━━━━━━━━━━━━━━━━━━━━\u001b[0m\u001b[37m\u001b[0m \u001b[1m5s\u001b[0m 3ms/step - accuracy: 0.9965 - loss: 0.0127 - val_accuracy: 0.9917 - val_loss: 0.0369\n",
            "Epoch 40/50\n",
            "\u001b[1m1875/1875\u001b[0m \u001b[32m━━━━━━━━━━━━━━━━━━━━\u001b[0m\u001b[37m\u001b[0m \u001b[1m11s\u001b[0m 3ms/step - accuracy: 0.9974 - loss: 0.0103 - val_accuracy: 0.9917 - val_loss: 0.0313\n",
            "Epoch 41/50\n",
            "\u001b[1m1875/1875\u001b[0m \u001b[32m━━━━━━━━━━━━━━━━━━━━\u001b[0m\u001b[37m\u001b[0m \u001b[1m5s\u001b[0m 3ms/step - accuracy: 0.9969 - loss: 0.0149 - val_accuracy: 0.9938 - val_loss: 0.0269\n",
            "Epoch 42/50\n",
            "\u001b[1m1875/1875\u001b[0m \u001b[32m━━━━━━━━━━━━━━━━━━━━\u001b[0m\u001b[37m\u001b[0m \u001b[1m6s\u001b[0m 3ms/step - accuracy: 0.9976 - loss: 0.0089 - val_accuracy: 0.9914 - val_loss: 0.0426\n",
            "Epoch 43/50\n",
            "\u001b[1m1875/1875\u001b[0m \u001b[32m━━━━━━━━━━━━━━━━━━━━\u001b[0m\u001b[37m\u001b[0m \u001b[1m11s\u001b[0m 3ms/step - accuracy: 0.9972 - loss: 0.0129 - val_accuracy: 0.9942 - val_loss: 0.0272\n",
            "Epoch 44/50\n",
            "\u001b[1m1875/1875\u001b[0m \u001b[32m━━━━━━━━━━━━━━━━━━━━\u001b[0m\u001b[37m\u001b[0m \u001b[1m9s\u001b[0m 3ms/step - accuracy: 0.9976 - loss: 0.0100 - val_accuracy: 0.9933 - val_loss: 0.0354\n",
            "Epoch 45/50\n",
            "\u001b[1m1875/1875\u001b[0m \u001b[32m━━━━━━━━━━━━━━━━━━━━\u001b[0m\u001b[37m\u001b[0m \u001b[1m6s\u001b[0m 3ms/step - accuracy: 0.9974 - loss: 0.0130 - val_accuracy: 0.9943 - val_loss: 0.0268\n",
            "Epoch 46/50\n",
            "\u001b[1m1875/1875\u001b[0m \u001b[32m━━━━━━━━━━━━━━━━━━━━\u001b[0m\u001b[37m\u001b[0m \u001b[1m10s\u001b[0m 3ms/step - accuracy: 0.9975 - loss: 0.0102 - val_accuracy: 0.9925 - val_loss: 0.0311\n",
            "Epoch 47/50\n",
            "\u001b[1m1875/1875\u001b[0m \u001b[32m━━━━━━━━━━━━━━━━━━━━\u001b[0m\u001b[37m\u001b[0m \u001b[1m5s\u001b[0m 3ms/step - accuracy: 0.9976 - loss: 0.0089 - val_accuracy: 0.9942 - val_loss: 0.0251\n",
            "Epoch 48/50\n",
            "\u001b[1m1875/1875\u001b[0m \u001b[32m━━━━━━━━━━━━━━━━━━━━\u001b[0m\u001b[37m\u001b[0m \u001b[1m5s\u001b[0m 3ms/step - accuracy: 0.9977 - loss: 0.0085 - val_accuracy: 0.9928 - val_loss: 0.0371\n",
            "Epoch 49/50\n",
            "\u001b[1m1875/1875\u001b[0m \u001b[32m━━━━━━━━━━━━━━━━━━━━\u001b[0m\u001b[37m\u001b[0m \u001b[1m6s\u001b[0m 3ms/step - accuracy: 0.9978 - loss: 0.0100 - val_accuracy: 0.9922 - val_loss: 0.0341\n",
            "Epoch 50/50\n",
            "\u001b[1m1875/1875\u001b[0m \u001b[32m━━━━━━━━━━━━━━━━━━━━\u001b[0m\u001b[37m\u001b[0m \u001b[1m10s\u001b[0m 3ms/step - accuracy: 0.9974 - loss: 0.0103 - val_accuracy: 0.9941 - val_loss: 0.0324\n"
          ]
        }
      ]
    },
    {
      "cell_type": "markdown",
      "source": [
        "Our CNN models performance is near perfect but we could try improving it by using another form of Pooling or change the Learning Rate using a sceduler. Finaly we could add Residual Connections"
      ],
      "metadata": {
        "id": "15j2MT0aQ7Yz"
      }
    },
    {
      "cell_type": "markdown",
      "source": [
        "# Part 2 – Deep Reinforcement Learning"
      ],
      "metadata": {
        "id": "MEa9JvdkLJ0N"
      }
    },
    {
      "cell_type": "markdown",
      "source": [
        "## Install Libraries"
      ],
      "metadata": {
        "id": "ZOvgZRVSLV6B"
      }
    },
    {
      "cell_type": "code",
      "source": [
        "!pip install swig\n",
        "!pip install gymnasium[box2d]\n",
        "!pip install ray[rllib]==2.6.0\n",
        "!pip install tensorflow==2.11.0\n",
        "!pip install tensorflow-probability==0.17\n",
        "!pip install renderlab"
      ],
      "metadata": {
        "colab": {
          "base_uri": "https://localhost:8080/",
          "height": 1000
        },
        "collapsed": true,
        "id": "BznvpIiWJg3Y",
        "outputId": "889aede2-8377-444f-bff3-3efb4893d4b9"
      },
      "execution_count": 1,
      "outputs": [
        {
          "output_type": "stream",
          "name": "stdout",
          "text": [
            "Collecting swig\n",
            "  Downloading swig-4.3.0-py2.py3-none-manylinux_2_5_x86_64.manylinux1_x86_64.whl.metadata (3.5 kB)\n",
            "Downloading swig-4.3.0-py2.py3-none-manylinux_2_5_x86_64.manylinux1_x86_64.whl (1.9 MB)\n",
            "\u001b[?25l   \u001b[90m━━━━━━━━━━━━━━━━━━━━━━━━━━━━━━━━━━━━━━━━\u001b[0m \u001b[32m0.0/1.9 MB\u001b[0m \u001b[31m?\u001b[0m eta \u001b[36m-:--:--\u001b[0m\r\u001b[2K   \u001b[91m━━━━━━━━━━━━━━━━━━━━━━━━━━━━━━━━━━━━━━━\u001b[0m\u001b[91m╸\u001b[0m \u001b[32m1.9/1.9 MB\u001b[0m \u001b[31m63.3 MB/s\u001b[0m eta \u001b[36m0:00:01\u001b[0m\r\u001b[2K   \u001b[90m━━━━━━━━━━━━━━━━━━━━━━━━━━━━━━━━━━━━━━━━\u001b[0m \u001b[32m1.9/1.9 MB\u001b[0m \u001b[31m41.5 MB/s\u001b[0m eta \u001b[36m0:00:00\u001b[0m\n",
            "\u001b[?25hInstalling collected packages: swig\n",
            "Successfully installed swig-4.3.0\n",
            "Collecting gymnasium[box2d]\n",
            "  Downloading gymnasium-1.0.0-py3-none-any.whl.metadata (9.5 kB)\n",
            "Requirement already satisfied: numpy>=1.21.0 in /usr/local/lib/python3.10/dist-packages (from gymnasium[box2d]) (1.26.4)\n",
            "Requirement already satisfied: cloudpickle>=1.2.0 in /usr/local/lib/python3.10/dist-packages (from gymnasium[box2d]) (3.1.0)\n",
            "Requirement already satisfied: typing-extensions>=4.3.0 in /usr/local/lib/python3.10/dist-packages (from gymnasium[box2d]) (4.12.2)\n",
            "Collecting farama-notifications>=0.0.1 (from gymnasium[box2d])\n",
            "  Downloading Farama_Notifications-0.0.4-py3-none-any.whl.metadata (558 bytes)\n",
            "Collecting box2d-py==2.3.5 (from gymnasium[box2d])\n",
            "  Downloading box2d-py-2.3.5.tar.gz (374 kB)\n",
            "\u001b[2K     \u001b[90m━━━━━━━━━━━━━━━━━━━━━━━━━━━━━━━━━━━━━━━━\u001b[0m \u001b[32m374.4/374.4 kB\u001b[0m \u001b[31m13.5 MB/s\u001b[0m eta \u001b[36m0:00:00\u001b[0m\n",
            "\u001b[?25h  Preparing metadata (setup.py) ... \u001b[?25l\u001b[?25hdone\n",
            "Requirement already satisfied: pygame>=2.1.3 in /usr/local/lib/python3.10/dist-packages (from gymnasium[box2d]) (2.6.1)\n",
            "Requirement already satisfied: swig==4.* in /usr/local/lib/python3.10/dist-packages (from gymnasium[box2d]) (4.3.0)\n",
            "Downloading Farama_Notifications-0.0.4-py3-none-any.whl (2.5 kB)\n",
            "Downloading gymnasium-1.0.0-py3-none-any.whl (958 kB)\n",
            "\u001b[2K   \u001b[90m━━━━━━━━━━━━━━━━━━━━━━━━━━━━━━━━━━━━━━━━\u001b[0m \u001b[32m958.1/958.1 kB\u001b[0m \u001b[31m53.7 MB/s\u001b[0m eta \u001b[36m0:00:00\u001b[0m\n",
            "\u001b[?25hBuilding wheels for collected packages: box2d-py\n",
            "  Building wheel for box2d-py (setup.py) ... \u001b[?25l\u001b[?25hdone\n",
            "  Created wheel for box2d-py: filename=box2d_py-2.3.5-cp310-cp310-linux_x86_64.whl size=2376478 sha256=bf052492412b48d6f227e0228fbba5e7c044e5ebef3970a41fa6614085085112\n",
            "  Stored in directory: /root/.cache/pip/wheels/db/8f/6a/eaaadf056fba10a98d986f6dce954e6201ba3126926fc5ad9e\n",
            "Successfully built box2d-py\n",
            "Installing collected packages: farama-notifications, box2d-py, gymnasium\n",
            "Successfully installed box2d-py-2.3.5 farama-notifications-0.0.4 gymnasium-1.0.0\n",
            "Collecting ray==2.6.0 (from ray[rllib]==2.6.0)\n",
            "  Downloading ray-2.6.0-cp310-cp310-manylinux2014_x86_64.whl.metadata (12 kB)\n",
            "Requirement already satisfied: click>=7.0 in /usr/local/lib/python3.10/dist-packages (from ray==2.6.0->ray[rllib]==2.6.0) (8.1.7)\n",
            "Requirement already satisfied: filelock in /usr/local/lib/python3.10/dist-packages (from ray==2.6.0->ray[rllib]==2.6.0) (3.16.1)\n",
            "Requirement already satisfied: jsonschema in /usr/local/lib/python3.10/dist-packages (from ray==2.6.0->ray[rllib]==2.6.0) (4.23.0)\n",
            "Requirement already satisfied: msgpack<2.0.0,>=1.0.0 in /usr/local/lib/python3.10/dist-packages (from ray==2.6.0->ray[rllib]==2.6.0) (1.1.0)\n",
            "Requirement already satisfied: packaging in /usr/local/lib/python3.10/dist-packages (from ray==2.6.0->ray[rllib]==2.6.0) (24.2)\n",
            "Requirement already satisfied: protobuf!=3.19.5,>=3.15.3 in /usr/local/lib/python3.10/dist-packages (from ray==2.6.0->ray[rllib]==2.6.0) (4.25.5)\n",
            "Requirement already satisfied: pyyaml in /usr/local/lib/python3.10/dist-packages (from ray==2.6.0->ray[rllib]==2.6.0) (6.0.2)\n",
            "Requirement already satisfied: aiosignal in /usr/local/lib/python3.10/dist-packages (from ray==2.6.0->ray[rllib]==2.6.0) (1.3.2)\n",
            "Requirement already satisfied: frozenlist in /usr/local/lib/python3.10/dist-packages (from ray==2.6.0->ray[rllib]==2.6.0) (1.5.0)\n",
            "Requirement already satisfied: requests in /usr/local/lib/python3.10/dist-packages (from ray==2.6.0->ray[rllib]==2.6.0) (2.32.3)\n",
            "Requirement already satisfied: grpcio>=1.42.0 in /usr/local/lib/python3.10/dist-packages (from ray==2.6.0->ray[rllib]==2.6.0) (1.68.1)\n",
            "Requirement already satisfied: numpy>=1.19.3 in /usr/local/lib/python3.10/dist-packages (from ray==2.6.0->ray[rllib]==2.6.0) (1.26.4)\n",
            "Requirement already satisfied: pandas in /usr/local/lib/python3.10/dist-packages (from ray[rllib]==2.6.0) (2.2.2)\n",
            "Collecting tensorboardX>=1.9 (from ray[rllib]==2.6.0)\n",
            "  Downloading tensorboardX-2.6.2.2-py2.py3-none-any.whl.metadata (5.8 kB)\n",
            "Requirement already satisfied: pyarrow>=6.0.1 in /usr/local/lib/python3.10/dist-packages (from ray[rllib]==2.6.0) (17.0.0)\n",
            "Requirement already satisfied: dm-tree in /usr/local/lib/python3.10/dist-packages (from ray[rllib]==2.6.0) (0.1.8)\n",
            "Collecting gymnasium==0.26.3 (from ray[rllib]==2.6.0)\n",
            "  Downloading Gymnasium-0.26.3-py3-none-any.whl.metadata (5.8 kB)\n",
            "Collecting lz4 (from ray[rllib]==2.6.0)\n",
            "  Downloading lz4-4.3.3-cp310-cp310-manylinux_2_17_x86_64.manylinux2014_x86_64.whl.metadata (3.7 kB)\n",
            "Requirement already satisfied: scikit-image in /usr/local/lib/python3.10/dist-packages (from ray[rllib]==2.6.0) (0.25.0)\n",
            "Requirement already satisfied: scipy in /usr/local/lib/python3.10/dist-packages (from ray[rllib]==2.6.0) (1.13.1)\n",
            "Requirement already satisfied: typer in /usr/local/lib/python3.10/dist-packages (from ray[rllib]==2.6.0) (0.15.1)\n",
            "Requirement already satisfied: rich in /usr/local/lib/python3.10/dist-packages (from ray[rllib]==2.6.0) (13.9.4)\n",
            "Requirement already satisfied: cloudpickle>=1.2.0 in /usr/local/lib/python3.10/dist-packages (from gymnasium==0.26.3->ray[rllib]==2.6.0) (3.1.0)\n",
            "Collecting gymnasium-notices>=0.0.1 (from gymnasium==0.26.3->ray[rllib]==2.6.0)\n",
            "  Downloading gymnasium_notices-0.0.1-py3-none-any.whl.metadata (1.1 kB)\n",
            "Requirement already satisfied: attrs>=22.2.0 in /usr/local/lib/python3.10/dist-packages (from jsonschema->ray==2.6.0->ray[rllib]==2.6.0) (24.3.0)\n",
            "Requirement already satisfied: jsonschema-specifications>=2023.03.6 in /usr/local/lib/python3.10/dist-packages (from jsonschema->ray==2.6.0->ray[rllib]==2.6.0) (2024.10.1)\n",
            "Requirement already satisfied: referencing>=0.28.4 in /usr/local/lib/python3.10/dist-packages (from jsonschema->ray==2.6.0->ray[rllib]==2.6.0) (0.35.1)\n",
            "Requirement already satisfied: rpds-py>=0.7.1 in /usr/local/lib/python3.10/dist-packages (from jsonschema->ray==2.6.0->ray[rllib]==2.6.0) (0.22.3)\n",
            "Requirement already satisfied: python-dateutil>=2.8.2 in /usr/local/lib/python3.10/dist-packages (from pandas->ray[rllib]==2.6.0) (2.8.2)\n",
            "Requirement already satisfied: pytz>=2020.1 in /usr/local/lib/python3.10/dist-packages (from pandas->ray[rllib]==2.6.0) (2024.2)\n",
            "Requirement already satisfied: tzdata>=2022.7 in /usr/local/lib/python3.10/dist-packages (from pandas->ray[rllib]==2.6.0) (2024.2)\n",
            "Requirement already satisfied: charset-normalizer<4,>=2 in /usr/local/lib/python3.10/dist-packages (from requests->ray==2.6.0->ray[rllib]==2.6.0) (3.4.0)\n",
            "Requirement already satisfied: idna<4,>=2.5 in /usr/local/lib/python3.10/dist-packages (from requests->ray==2.6.0->ray[rllib]==2.6.0) (3.10)\n",
            "Requirement already satisfied: urllib3<3,>=1.21.1 in /usr/local/lib/python3.10/dist-packages (from requests->ray==2.6.0->ray[rllib]==2.6.0) (2.2.3)\n",
            "Requirement already satisfied: certifi>=2017.4.17 in /usr/local/lib/python3.10/dist-packages (from requests->ray==2.6.0->ray[rllib]==2.6.0) (2024.12.14)\n",
            "Requirement already satisfied: markdown-it-py>=2.2.0 in /usr/local/lib/python3.10/dist-packages (from rich->ray[rllib]==2.6.0) (3.0.0)\n",
            "Requirement already satisfied: pygments<3.0.0,>=2.13.0 in /usr/local/lib/python3.10/dist-packages (from rich->ray[rllib]==2.6.0) (2.18.0)\n",
            "Requirement already satisfied: typing-extensions<5.0,>=4.0.0 in /usr/local/lib/python3.10/dist-packages (from rich->ray[rllib]==2.6.0) (4.12.2)\n",
            "Requirement already satisfied: networkx>=3.0 in /usr/local/lib/python3.10/dist-packages (from scikit-image->ray[rllib]==2.6.0) (3.4.2)\n",
            "Requirement already satisfied: pillow>=10.1 in /usr/local/lib/python3.10/dist-packages (from scikit-image->ray[rllib]==2.6.0) (11.0.0)\n",
            "Requirement already satisfied: imageio!=2.35.0,>=2.33 in /usr/local/lib/python3.10/dist-packages (from scikit-image->ray[rllib]==2.6.0) (2.36.1)\n",
            "Requirement already satisfied: tifffile>=2022.8.12 in /usr/local/lib/python3.10/dist-packages (from scikit-image->ray[rllib]==2.6.0) (2024.12.12)\n",
            "Requirement already satisfied: lazy-loader>=0.4 in /usr/local/lib/python3.10/dist-packages (from scikit-image->ray[rllib]==2.6.0) (0.4)\n",
            "Requirement already satisfied: shellingham>=1.3.0 in /usr/local/lib/python3.10/dist-packages (from typer->ray[rllib]==2.6.0) (1.5.4)\n",
            "Requirement already satisfied: mdurl~=0.1 in /usr/local/lib/python3.10/dist-packages (from markdown-it-py>=2.2.0->rich->ray[rllib]==2.6.0) (0.1.2)\n",
            "Requirement already satisfied: six>=1.5 in /usr/local/lib/python3.10/dist-packages (from python-dateutil>=2.8.2->pandas->ray[rllib]==2.6.0) (1.17.0)\n",
            "Downloading ray-2.6.0-cp310-cp310-manylinux2014_x86_64.whl (56.9 MB)\n",
            "\u001b[2K   \u001b[90m━━━━━━━━━━━━━━━━━━━━━━━━━━━━━━━━━━━━━━━━\u001b[0m \u001b[32m56.9/56.9 MB\u001b[0m \u001b[31m5.1 MB/s\u001b[0m eta \u001b[36m0:00:00\u001b[0m\n",
            "\u001b[?25hDownloading Gymnasium-0.26.3-py3-none-any.whl (836 kB)\n",
            "\u001b[2K   \u001b[90m━━━━━━━━━━━━━━━━━━━━━━━━━━━━━━━━━━━━━━━━\u001b[0m \u001b[32m836.9/836.9 kB\u001b[0m \u001b[31m47.2 MB/s\u001b[0m eta \u001b[36m0:00:00\u001b[0m\n",
            "\u001b[?25hDownloading tensorboardX-2.6.2.2-py2.py3-none-any.whl (101 kB)\n",
            "\u001b[2K   \u001b[90m━━━━━━━━━━━━━━━━━━━━━━━━━━━━━━━━━━━━━━━━\u001b[0m \u001b[32m101.7/101.7 kB\u001b[0m \u001b[31m11.3 MB/s\u001b[0m eta \u001b[36m0:00:00\u001b[0m\n",
            "\u001b[?25hDownloading lz4-4.3.3-cp310-cp310-manylinux_2_17_x86_64.manylinux2014_x86_64.whl (1.3 MB)\n",
            "\u001b[2K   \u001b[90m━━━━━━━━━━━━━━━━━━━━━━━━━━━━━━━━━━━━━━━━\u001b[0m \u001b[32m1.3/1.3 MB\u001b[0m \u001b[31m59.6 MB/s\u001b[0m eta \u001b[36m0:00:00\u001b[0m\n",
            "\u001b[?25hDownloading gymnasium_notices-0.0.1-py3-none-any.whl (2.8 kB)\n",
            "Installing collected packages: gymnasium-notices, tensorboardX, lz4, gymnasium, ray\n",
            "  Attempting uninstall: gymnasium\n",
            "    Found existing installation: gymnasium 1.0.0\n",
            "    Uninstalling gymnasium-1.0.0:\n",
            "      Successfully uninstalled gymnasium-1.0.0\n",
            "Successfully installed gymnasium-0.26.3 gymnasium-notices-0.0.1 lz4-4.3.3 ray-2.6.0 tensorboardX-2.6.2.2\n",
            "Collecting tensorflow==2.11.0\n",
            "  Downloading tensorflow-2.11.0-cp310-cp310-manylinux_2_17_x86_64.manylinux2014_x86_64.whl.metadata (3.1 kB)\n",
            "Requirement already satisfied: absl-py>=1.0.0 in /usr/local/lib/python3.10/dist-packages (from tensorflow==2.11.0) (1.4.0)\n",
            "Requirement already satisfied: astunparse>=1.6.0 in /usr/local/lib/python3.10/dist-packages (from tensorflow==2.11.0) (1.6.3)\n",
            "Requirement already satisfied: flatbuffers>=2.0 in /usr/local/lib/python3.10/dist-packages (from tensorflow==2.11.0) (24.3.25)\n",
            "Collecting gast<=0.4.0,>=0.2.1 (from tensorflow==2.11.0)\n",
            "  Downloading gast-0.4.0-py3-none-any.whl.metadata (1.1 kB)\n",
            "Requirement already satisfied: google-pasta>=0.1.1 in /usr/local/lib/python3.10/dist-packages (from tensorflow==2.11.0) (0.2.0)\n",
            "Requirement already satisfied: grpcio<2.0,>=1.24.3 in /usr/local/lib/python3.10/dist-packages (from tensorflow==2.11.0) (1.68.1)\n",
            "Requirement already satisfied: h5py>=2.9.0 in /usr/local/lib/python3.10/dist-packages (from tensorflow==2.11.0) (3.12.1)\n",
            "Collecting keras<2.12,>=2.11.0 (from tensorflow==2.11.0)\n",
            "  Downloading keras-2.11.0-py2.py3-none-any.whl.metadata (1.4 kB)\n",
            "Requirement already satisfied: libclang>=13.0.0 in /usr/local/lib/python3.10/dist-packages (from tensorflow==2.11.0) (18.1.1)\n",
            "Requirement already satisfied: numpy>=1.20 in /usr/local/lib/python3.10/dist-packages (from tensorflow==2.11.0) (1.26.4)\n",
            "Requirement already satisfied: opt-einsum>=2.3.2 in /usr/local/lib/python3.10/dist-packages (from tensorflow==2.11.0) (3.4.0)\n",
            "Requirement already satisfied: packaging in /usr/local/lib/python3.10/dist-packages (from tensorflow==2.11.0) (24.2)\n",
            "Collecting protobuf<3.20,>=3.9.2 (from tensorflow==2.11.0)\n",
            "  Downloading protobuf-3.19.6-cp310-cp310-manylinux_2_17_x86_64.manylinux2014_x86_64.whl.metadata (787 bytes)\n",
            "Requirement already satisfied: setuptools in /usr/local/lib/python3.10/dist-packages (from tensorflow==2.11.0) (75.1.0)\n",
            "Requirement already satisfied: six>=1.12.0 in /usr/local/lib/python3.10/dist-packages (from tensorflow==2.11.0) (1.17.0)\n",
            "Collecting tensorboard<2.12,>=2.11 (from tensorflow==2.11.0)\n",
            "  Downloading tensorboard-2.11.2-py3-none-any.whl.metadata (1.9 kB)\n",
            "Collecting tensorflow-estimator<2.12,>=2.11.0 (from tensorflow==2.11.0)\n",
            "  Downloading tensorflow_estimator-2.11.0-py2.py3-none-any.whl.metadata (1.3 kB)\n",
            "Requirement already satisfied: termcolor>=1.1.0 in /usr/local/lib/python3.10/dist-packages (from tensorflow==2.11.0) (2.5.0)\n",
            "Requirement already satisfied: typing-extensions>=3.6.6 in /usr/local/lib/python3.10/dist-packages (from tensorflow==2.11.0) (4.12.2)\n",
            "Requirement already satisfied: wrapt>=1.11.0 in /usr/local/lib/python3.10/dist-packages (from tensorflow==2.11.0) (1.17.0)\n",
            "Requirement already satisfied: tensorflow-io-gcs-filesystem>=0.23.1 in /usr/local/lib/python3.10/dist-packages (from tensorflow==2.11.0) (0.37.1)\n",
            "Requirement already satisfied: wheel<1.0,>=0.23.0 in /usr/local/lib/python3.10/dist-packages (from astunparse>=1.6.0->tensorflow==2.11.0) (0.45.1)\n",
            "Requirement already satisfied: google-auth<3,>=1.6.3 in /usr/local/lib/python3.10/dist-packages (from tensorboard<2.12,>=2.11->tensorflow==2.11.0) (2.27.0)\n",
            "Collecting google-auth-oauthlib<0.5,>=0.4.1 (from tensorboard<2.12,>=2.11->tensorflow==2.11.0)\n",
            "  Downloading google_auth_oauthlib-0.4.6-py2.py3-none-any.whl.metadata (2.7 kB)\n",
            "Requirement already satisfied: markdown>=2.6.8 in /usr/local/lib/python3.10/dist-packages (from tensorboard<2.12,>=2.11->tensorflow==2.11.0) (3.7)\n",
            "Requirement already satisfied: requests<3,>=2.21.0 in /usr/local/lib/python3.10/dist-packages (from tensorboard<2.12,>=2.11->tensorflow==2.11.0) (2.32.3)\n",
            "Collecting tensorboard-data-server<0.7.0,>=0.6.0 (from tensorboard<2.12,>=2.11->tensorflow==2.11.0)\n",
            "  Downloading tensorboard_data_server-0.6.1-py3-none-manylinux2010_x86_64.whl.metadata (1.1 kB)\n",
            "Collecting tensorboard-plugin-wit>=1.6.0 (from tensorboard<2.12,>=2.11->tensorflow==2.11.0)\n",
            "  Downloading tensorboard_plugin_wit-1.8.1-py3-none-any.whl.metadata (873 bytes)\n",
            "Requirement already satisfied: werkzeug>=1.0.1 in /usr/local/lib/python3.10/dist-packages (from tensorboard<2.12,>=2.11->tensorflow==2.11.0) (3.1.3)\n",
            "Requirement already satisfied: cachetools<6.0,>=2.0.0 in /usr/local/lib/python3.10/dist-packages (from google-auth<3,>=1.6.3->tensorboard<2.12,>=2.11->tensorflow==2.11.0) (5.5.0)\n",
            "Requirement already satisfied: pyasn1-modules>=0.2.1 in /usr/local/lib/python3.10/dist-packages (from google-auth<3,>=1.6.3->tensorboard<2.12,>=2.11->tensorflow==2.11.0) (0.4.1)\n",
            "Requirement already satisfied: rsa<5,>=3.1.4 in /usr/local/lib/python3.10/dist-packages (from google-auth<3,>=1.6.3->tensorboard<2.12,>=2.11->tensorflow==2.11.0) (4.9)\n",
            "Requirement already satisfied: requests-oauthlib>=0.7.0 in /usr/local/lib/python3.10/dist-packages (from google-auth-oauthlib<0.5,>=0.4.1->tensorboard<2.12,>=2.11->tensorflow==2.11.0) (1.3.1)\n",
            "Requirement already satisfied: charset-normalizer<4,>=2 in /usr/local/lib/python3.10/dist-packages (from requests<3,>=2.21.0->tensorboard<2.12,>=2.11->tensorflow==2.11.0) (3.4.0)\n",
            "Requirement already satisfied: idna<4,>=2.5 in /usr/local/lib/python3.10/dist-packages (from requests<3,>=2.21.0->tensorboard<2.12,>=2.11->tensorflow==2.11.0) (3.10)\n",
            "Requirement already satisfied: urllib3<3,>=1.21.1 in /usr/local/lib/python3.10/dist-packages (from requests<3,>=2.21.0->tensorboard<2.12,>=2.11->tensorflow==2.11.0) (2.2.3)\n",
            "Requirement already satisfied: certifi>=2017.4.17 in /usr/local/lib/python3.10/dist-packages (from requests<3,>=2.21.0->tensorboard<2.12,>=2.11->tensorflow==2.11.0) (2024.12.14)\n",
            "Requirement already satisfied: MarkupSafe>=2.1.1 in /usr/local/lib/python3.10/dist-packages (from werkzeug>=1.0.1->tensorboard<2.12,>=2.11->tensorflow==2.11.0) (3.0.2)\n",
            "Requirement already satisfied: pyasn1<0.7.0,>=0.4.6 in /usr/local/lib/python3.10/dist-packages (from pyasn1-modules>=0.2.1->google-auth<3,>=1.6.3->tensorboard<2.12,>=2.11->tensorflow==2.11.0) (0.6.1)\n",
            "Requirement already satisfied: oauthlib>=3.0.0 in /usr/local/lib/python3.10/dist-packages (from requests-oauthlib>=0.7.0->google-auth-oauthlib<0.5,>=0.4.1->tensorboard<2.12,>=2.11->tensorflow==2.11.0) (3.2.2)\n",
            "Downloading tensorflow-2.11.0-cp310-cp310-manylinux_2_17_x86_64.manylinux2014_x86_64.whl (588.3 MB)\n",
            "\u001b[2K   \u001b[90m━━━━━━━━━━━━━━━━━━━━━━━━━━━━━━━━━━━━━━━━\u001b[0m \u001b[32m588.3/588.3 MB\u001b[0m \u001b[31m2.4 MB/s\u001b[0m eta \u001b[36m0:00:00\u001b[0m\n",
            "\u001b[?25hDownloading gast-0.4.0-py3-none-any.whl (9.8 kB)\n",
            "Downloading keras-2.11.0-py2.py3-none-any.whl (1.7 MB)\n",
            "\u001b[2K   \u001b[90m━━━━━━━━━━━━━━━━━━━━━━━━━━━━━━━━━━━━━━━━\u001b[0m \u001b[32m1.7/1.7 MB\u001b[0m \u001b[31m80.7 MB/s\u001b[0m eta \u001b[36m0:00:00\u001b[0m\n",
            "\u001b[?25hDownloading protobuf-3.19.6-cp310-cp310-manylinux_2_17_x86_64.manylinux2014_x86_64.whl (1.1 MB)\n",
            "\u001b[2K   \u001b[90m━━━━━━━━━━━━━━━━━━━━━━━━━━━━━━━━━━━━━━━━\u001b[0m \u001b[32m1.1/1.1 MB\u001b[0m \u001b[31m66.7 MB/s\u001b[0m eta \u001b[36m0:00:00\u001b[0m\n",
            "\u001b[?25hDownloading tensorboard-2.11.2-py3-none-any.whl (6.0 MB)\n",
            "\u001b[2K   \u001b[90m━━━━━━━━━━━━━━━━━━━━━━━━━━━━━━━━━━━━━━━━\u001b[0m \u001b[32m6.0/6.0 MB\u001b[0m \u001b[31m113.2 MB/s\u001b[0m eta \u001b[36m0:00:00\u001b[0m\n",
            "\u001b[?25hDownloading tensorflow_estimator-2.11.0-py2.py3-none-any.whl (439 kB)\n",
            "\u001b[2K   \u001b[90m━━━━━━━━━━━━━━━━━━━━━━━━━━━━━━━━━━━━━━━━\u001b[0m \u001b[32m439.2/439.2 kB\u001b[0m \u001b[31m40.0 MB/s\u001b[0m eta \u001b[36m0:00:00\u001b[0m\n",
            "\u001b[?25hDownloading google_auth_oauthlib-0.4.6-py2.py3-none-any.whl (18 kB)\n",
            "Downloading tensorboard_data_server-0.6.1-py3-none-manylinux2010_x86_64.whl (4.9 MB)\n",
            "\u001b[2K   \u001b[90m━━━━━━━━━━━━━━━━━━━━━━━━━━━━━━━━━━━━━━━━\u001b[0m \u001b[32m4.9/4.9 MB\u001b[0m \u001b[31m108.7 MB/s\u001b[0m eta \u001b[36m0:00:00\u001b[0m\n",
            "\u001b[?25hDownloading tensorboard_plugin_wit-1.8.1-py3-none-any.whl (781 kB)\n",
            "\u001b[2K   \u001b[90m━━━━━━━━━━━━━━━━━━━━━━━━━━━━━━━━━━━━━━━━\u001b[0m \u001b[32m781.3/781.3 kB\u001b[0m \u001b[31m58.2 MB/s\u001b[0m eta \u001b[36m0:00:00\u001b[0m\n",
            "\u001b[?25hInstalling collected packages: tensorboard-plugin-wit, tensorflow-estimator, tensorboard-data-server, protobuf, keras, gast, google-auth-oauthlib, tensorboard, tensorflow\n",
            "  Attempting uninstall: tensorboard-data-server\n",
            "    Found existing installation: tensorboard-data-server 0.7.2\n",
            "    Uninstalling tensorboard-data-server-0.7.2:\n",
            "      Successfully uninstalled tensorboard-data-server-0.7.2\n",
            "  Attempting uninstall: protobuf\n",
            "    Found existing installation: protobuf 4.25.5\n",
            "    Uninstalling protobuf-4.25.5:\n",
            "      Successfully uninstalled protobuf-4.25.5\n",
            "  Attempting uninstall: keras\n",
            "    Found existing installation: keras 3.5.0\n",
            "    Uninstalling keras-3.5.0:\n",
            "      Successfully uninstalled keras-3.5.0\n",
            "  Attempting uninstall: gast\n",
            "    Found existing installation: gast 0.6.0\n",
            "    Uninstalling gast-0.6.0:\n",
            "      Successfully uninstalled gast-0.6.0\n",
            "  Attempting uninstall: google-auth-oauthlib\n",
            "    Found existing installation: google-auth-oauthlib 1.2.1\n",
            "    Uninstalling google-auth-oauthlib-1.2.1:\n",
            "      Successfully uninstalled google-auth-oauthlib-1.2.1\n",
            "  Attempting uninstall: tensorboard\n",
            "    Found existing installation: tensorboard 2.17.1\n",
            "    Uninstalling tensorboard-2.17.1:\n",
            "      Successfully uninstalled tensorboard-2.17.1\n",
            "  Attempting uninstall: tensorflow\n",
            "    Found existing installation: tensorflow 2.17.1\n",
            "    Uninstalling tensorflow-2.17.1:\n",
            "      Successfully uninstalled tensorflow-2.17.1\n",
            "\u001b[31mERROR: pip's dependency resolver does not currently take into account all the packages that are installed. This behaviour is the source of the following dependency conflicts.\n",
            "google-ai-generativelanguage 0.6.10 requires protobuf!=4.21.0,!=4.21.1,!=4.21.2,!=4.21.3,!=4.21.4,!=4.21.5,<6.0.0dev,>=3.20.2, but you have protobuf 3.19.6 which is incompatible.\n",
            "google-cloud-aiplatform 1.74.0 requires protobuf!=4.21.0,!=4.21.1,!=4.21.2,!=4.21.3,!=4.21.4,!=4.21.5,<6.0.0dev,>=3.20.2, but you have protobuf 3.19.6 which is incompatible.\n",
            "google-cloud-bigquery-connection 1.17.0 requires protobuf!=4.21.0,!=4.21.1,!=4.21.2,!=4.21.3,!=4.21.4,!=4.21.5,<6.0.0dev,>=3.20.2, but you have protobuf 3.19.6 which is incompatible.\n",
            "google-cloud-bigquery-storage 2.27.0 requires protobuf!=3.20.0,!=3.20.1,!=4.21.0,!=4.21.1,!=4.21.2,!=4.21.3,!=4.21.4,!=4.21.5,<6.0.0dev,>=3.20.2, but you have protobuf 3.19.6 which is incompatible.\n",
            "google-cloud-bigtable 2.27.0 requires protobuf!=4.21.0,!=4.21.1,!=4.21.2,!=4.21.3,!=4.21.4,!=4.21.5,<6.0.0dev,>=3.20.2, but you have protobuf 3.19.6 which is incompatible.\n",
            "google-cloud-datastore 2.20.2 requires protobuf!=3.20.0,!=3.20.1,!=4.21.0,!=4.21.1,!=4.21.2,!=4.21.3,!=4.21.4,!=4.21.5,<6.0.0dev,>=3.20.2, but you have protobuf 3.19.6 which is incompatible.\n",
            "google-cloud-firestore 2.19.0 requires protobuf!=3.20.0,!=3.20.1,!=4.21.0,!=4.21.1,!=4.21.2,!=4.21.3,!=4.21.4,!=4.21.5,<6.0.0dev,>=3.20.2, but you have protobuf 3.19.6 which is incompatible.\n",
            "google-cloud-functions 1.19.0 requires protobuf!=4.21.0,!=4.21.1,!=4.21.2,!=4.21.3,!=4.21.4,!=4.21.5,<6.0.0dev,>=3.20.2, but you have protobuf 3.19.6 which is incompatible.\n",
            "google-cloud-iam 2.17.0 requires protobuf!=4.21.0,!=4.21.1,!=4.21.2,!=4.21.3,!=4.21.4,!=4.21.5,<6.0.0dev,>=3.20.2, but you have protobuf 3.19.6 which is incompatible.\n",
            "google-cloud-language 2.16.0 requires protobuf!=4.21.0,!=4.21.1,!=4.21.2,!=4.21.3,!=4.21.4,!=4.21.5,<6.0.0dev,>=3.20.2, but you have protobuf 3.19.6 which is incompatible.\n",
            "google-cloud-pubsub 2.27.1 requires protobuf!=4.21.0,!=4.21.1,!=4.21.2,!=4.21.3,!=4.21.4,!=4.21.5,<6.0.0dev,>=3.20.2, but you have protobuf 3.19.6 which is incompatible.\n",
            "google-cloud-resource-manager 1.14.0 requires protobuf!=4.21.0,!=4.21.1,!=4.21.2,!=4.21.3,!=4.21.4,!=4.21.5,<6.0.0dev,>=3.20.2, but you have protobuf 3.19.6 which is incompatible.\n",
            "google-cloud-translate 3.19.0 requires protobuf!=4.21.0,!=4.21.1,!=4.21.2,!=4.21.3,!=4.21.4,!=4.21.5,<6.0.0dev,>=3.20.2, but you have protobuf 3.19.6 which is incompatible.\n",
            "googleapis-common-protos 1.66.0 requires protobuf!=3.20.0,!=3.20.1,!=4.21.1,!=4.21.2,!=4.21.3,!=4.21.4,!=4.21.5,<6.0.0.dev0,>=3.20.2, but you have protobuf 3.19.6 which is incompatible.\n",
            "grpc-google-iam-v1 0.13.1 requires protobuf!=4.21.1,!=4.21.2,!=4.21.3,!=4.21.4,!=4.21.5,<6.0.0dev,>=3.20.2, but you have protobuf 3.19.6 which is incompatible.\n",
            "grpcio-status 1.62.3 requires protobuf>=4.21.6, but you have protobuf 3.19.6 which is incompatible.\n",
            "pandas-gbq 0.25.0 requires google-auth-oauthlib>=0.7.0, but you have google-auth-oauthlib 0.4.6 which is incompatible.\n",
            "tensorboardx 2.6.2.2 requires protobuf>=3.20, but you have protobuf 3.19.6 which is incompatible.\n",
            "tensorflow-datasets 4.9.7 requires protobuf>=3.20, but you have protobuf 3.19.6 which is incompatible.\n",
            "tensorflow-metadata 1.13.1 requires protobuf<5,>=3.20.3, but you have protobuf 3.19.6 which is incompatible.\n",
            "tf-keras 2.17.0 requires tensorflow<2.18,>=2.17, but you have tensorflow 2.11.0 which is incompatible.\u001b[0m\u001b[31m\n",
            "\u001b[0mSuccessfully installed gast-0.4.0 google-auth-oauthlib-0.4.6 keras-2.11.0 protobuf-3.19.6 tensorboard-2.11.2 tensorboard-data-server-0.6.1 tensorboard-plugin-wit-1.8.1 tensorflow-2.11.0 tensorflow-estimator-2.11.0\n"
          ]
        },
        {
          "output_type": "display_data",
          "data": {
            "application/vnd.colab-display-data+json": {
              "pip_warning": {
                "packages": [
                  "google"
                ]
              },
              "id": "3d62ecc94d9a48dd8749a28101a30fe4"
            }
          },
          "metadata": {}
        },
        {
          "output_type": "stream",
          "name": "stdout",
          "text": [
            "Collecting tensorflow-probability==0.17\n",
            "  Downloading tensorflow_probability-0.17.0-py2.py3-none-any.whl.metadata (13 kB)\n",
            "Requirement already satisfied: absl-py in /usr/local/lib/python3.10/dist-packages (from tensorflow-probability==0.17) (1.4.0)\n",
            "Requirement already satisfied: six>=1.10.0 in /usr/local/lib/python3.10/dist-packages (from tensorflow-probability==0.17) (1.17.0)\n",
            "Requirement already satisfied: numpy>=1.13.3 in /usr/local/lib/python3.10/dist-packages (from tensorflow-probability==0.17) (1.26.4)\n",
            "Requirement already satisfied: decorator in /usr/local/lib/python3.10/dist-packages (from tensorflow-probability==0.17) (4.4.2)\n",
            "Requirement already satisfied: cloudpickle>=1.3 in /usr/local/lib/python3.10/dist-packages (from tensorflow-probability==0.17) (3.1.0)\n",
            "Requirement already satisfied: gast>=0.3.2 in /usr/local/lib/python3.10/dist-packages (from tensorflow-probability==0.17) (0.4.0)\n",
            "Requirement already satisfied: dm-tree in /usr/local/lib/python3.10/dist-packages (from tensorflow-probability==0.17) (0.1.8)\n",
            "Downloading tensorflow_probability-0.17.0-py2.py3-none-any.whl (6.5 MB)\n",
            "\u001b[2K   \u001b[90m━━━━━━━━━━━━━━━━━━━━━━━━━━━━━━━━━━━━━━━━\u001b[0m \u001b[32m6.5/6.5 MB\u001b[0m \u001b[31m77.5 MB/s\u001b[0m eta \u001b[36m0:00:00\u001b[0m\n",
            "\u001b[?25hInstalling collected packages: tensorflow-probability\n",
            "  Attempting uninstall: tensorflow-probability\n",
            "    Found existing installation: tensorflow-probability 0.24.0\n",
            "    Uninstalling tensorflow-probability-0.24.0:\n",
            "      Successfully uninstalled tensorflow-probability-0.24.0\n",
            "Successfully installed tensorflow-probability-0.17.0\n",
            "Collecting renderlab\n",
            "  Downloading renderlab-0.1.20230421184216-py3-none-any.whl.metadata (1.9 kB)\n",
            "Requirement already satisfied: moviepy in /usr/local/lib/python3.10/dist-packages (from renderlab) (1.0.3)\n",
            "Requirement already satisfied: gymnasium in /usr/local/lib/python3.10/dist-packages (from renderlab) (0.26.3)\n",
            "Requirement already satisfied: numpy>=1.18.0 in /usr/local/lib/python3.10/dist-packages (from gymnasium->renderlab) (1.26.4)\n",
            "Requirement already satisfied: cloudpickle>=1.2.0 in /usr/local/lib/python3.10/dist-packages (from gymnasium->renderlab) (3.1.0)\n",
            "Requirement already satisfied: gymnasium-notices>=0.0.1 in /usr/local/lib/python3.10/dist-packages (from gymnasium->renderlab) (0.0.1)\n",
            "Requirement already satisfied: decorator<5.0,>=4.0.2 in /usr/local/lib/python3.10/dist-packages (from moviepy->renderlab) (4.4.2)\n",
            "Requirement already satisfied: imageio<3.0,>=2.5 in /usr/local/lib/python3.10/dist-packages (from moviepy->renderlab) (2.36.1)\n",
            "Requirement already satisfied: imageio_ffmpeg>=0.2.0 in /usr/local/lib/python3.10/dist-packages (from moviepy->renderlab) (0.5.1)\n",
            "Requirement already satisfied: tqdm<5.0,>=4.11.2 in /usr/local/lib/python3.10/dist-packages (from moviepy->renderlab) (4.67.1)\n",
            "Requirement already satisfied: requests<3.0,>=2.8.1 in /usr/local/lib/python3.10/dist-packages (from moviepy->renderlab) (2.32.3)\n",
            "Requirement already satisfied: proglog<=1.0.0 in /usr/local/lib/python3.10/dist-packages (from moviepy->renderlab) (0.1.10)\n",
            "Requirement already satisfied: pillow>=8.3.2 in /usr/local/lib/python3.10/dist-packages (from imageio<3.0,>=2.5->moviepy->renderlab) (11.0.0)\n",
            "Requirement already satisfied: setuptools in /usr/local/lib/python3.10/dist-packages (from imageio_ffmpeg>=0.2.0->moviepy->renderlab) (75.1.0)\n",
            "Requirement already satisfied: charset-normalizer<4,>=2 in /usr/local/lib/python3.10/dist-packages (from requests<3.0,>=2.8.1->moviepy->renderlab) (3.4.0)\n",
            "Requirement already satisfied: idna<4,>=2.5 in /usr/local/lib/python3.10/dist-packages (from requests<3.0,>=2.8.1->moviepy->renderlab) (3.10)\n",
            "Requirement already satisfied: urllib3<3,>=1.21.1 in /usr/local/lib/python3.10/dist-packages (from requests<3.0,>=2.8.1->moviepy->renderlab) (2.2.3)\n",
            "Requirement already satisfied: certifi>=2017.4.17 in /usr/local/lib/python3.10/dist-packages (from requests<3.0,>=2.8.1->moviepy->renderlab) (2024.12.14)\n",
            "Downloading renderlab-0.1.20230421184216-py3-none-any.whl (4.0 kB)\n",
            "Installing collected packages: renderlab\n",
            "Successfully installed renderlab-0.1.20230421184216\n"
          ]
        }
      ]
    },
    {
      "cell_type": "markdown",
      "source": [
        "## 3. Meaning of main functions\n"
      ],
      "metadata": {
        "id": "3St7mE1WLGP3"
      }
    },
    {
      "cell_type": "markdown",
      "source": [
        "*   step(): This function updates the environment's state based on the actions provided by the agent.\n",
        "*   reset(): This function initializes or resets the environment to its starting state, typically at the beginning of an episode.\n",
        "* render(): This function visualizes the environment, aiding in debugging, analysis, and understanding of what the agent \"sees.\"\n"
      ],
      "metadata": {
        "id": "k4DQ-MjiLjz0"
      }
    },
    {
      "cell_type": "markdown",
      "source": [
        "## 4. Load Libraries & Gumnasium initialization"
      ],
      "metadata": {
        "id": "kcG8nNtsMHBW"
      }
    },
    {
      "cell_type": "code",
      "source": [
        "import gymnasium as gym\n",
        "import numpy as np\n",
        "import matplotlib.pyplot as plt\n",
        "import tensorflow as tf\n",
        "import ray\n",
        "from ray.rllib.algorithms.ppo import PPOConfig"
      ],
      "metadata": {
        "colab": {
          "base_uri": "https://localhost:8080/"
        },
        "id": "x9Mz7l2eMSyO",
        "outputId": "3519017a-8c9b-424d-f618-bff15e72cb7a"
      },
      "execution_count": 1,
      "outputs": [
        {
          "output_type": "stream",
          "name": "stderr",
          "text": [
            "/usr/local/lib/python3.10/dist-packages/ray/tune/logger/tensorboardx.py:41: DeprecationWarning: `np.bool8` is a deprecated alias for `np.bool_`.  (Deprecated NumPy 1.24)\n",
            "  VALID_NP_HPARAMS = (np.bool8, np.float32, np.float64, np.int32, np.int64)\n",
            "/usr/local/lib/python3.10/dist-packages/tensorflow_probability/python/__init__.py:57: DeprecationWarning: distutils Version classes are deprecated. Use packaging.version instead.\n",
            "  if (distutils.version.LooseVersion(tf.__version__) <\n",
            "2024-12-23 11:05:25,913\tWARNING deprecation.py:50 -- DeprecationWarning: `DirectStepOptimizer` has been deprecated. This will raise an error in the future!\n"
          ]
        }
      ]
    },
    {
      "cell_type": "code",
      "source": [
        "class LunarLanderV2(gym.Env):\n",
        "    def __init__(self, env_config=None):\n",
        "        self.env = gym.make('LunarLander-v2')\n",
        "        self.action_space = gym.spaces.Discrete(4)\n",
        "        self.observation_space = gym.spaces.Box(\n",
        "            low=np.float32([-2.5, -2.5, -10.0, -10.0, -6.2831855, -10.0, 0.0, 0.0]),\n",
        "            high=np.float32([2.5, 2.5, 10.0, 10.0, 6.2831855, 10.0, 1.0, 1.0]),\n",
        "            shape=(8,),\n",
        "            dtype=np.float32\n",
        "        )\n",
        "\n",
        "    def reset(self, **kwargs):\n",
        "        obs = self.env.reset(seed=None, options=None)\n",
        "        return obs\n",
        "\n",
        "    def step(self, action):\n",
        "        obs, reward, done, truncated, _ = self.env.step(action)\n",
        "        return obs, reward, done, truncated, {}\n",
        "\n",
        "    def render(self, **kwargs):\n",
        "        self.env.render(mode='human')"
      ],
      "metadata": {
        "id": "YynmAfdiMUvj"
      },
      "execution_count": 2,
      "outputs": []
    },
    {
      "cell_type": "markdown",
      "source": [
        "# 5. Agent Training"
      ],
      "metadata": {
        "id": "dwH_EQ_eNDRY"
      }
    },
    {
      "cell_type": "code",
      "source": [
        "# Initialize the agent\n",
        "ray.shutdown()\n",
        "ray.init()\n",
        "\n",
        "config = PPOConfig()\n",
        "# Configure the agent (use the settings provided in the image)\n",
        "config.use_critic = True\n",
        "config.use_gae = True\n",
        "config.lambda_ = 0.95\n",
        "config.use_kl_loss = True\n",
        "config.kl_coeff = 0.2\n",
        "config.vf_loss_coeff = 0.5\n",
        "config.entropy_coeff = 0.001\n",
        "config.clip_param = 0.2\n",
        "config.gamma = 0.99\n",
        "config.lr = 0.0005\n",
        "config.num_epochs = 30\n",
        "config.minibatch_size = 32\n",
        "config.shuffle_batch_per_epoch = True\n",
        "config.train_batch_size = 2048\n",
        "config.num_gpus = 1\n",
        "config.enable_rl_module_api = False\n",
        "config.model.update({\n",
        "    'fcnet_hiddens': [256, 256],\n",
        "    'fcnet_activation': 'relu',\n",
        "    'vf_share_layers': True,\n",
        "    'use_lstm': False\n",
        "})\n",
        "\n",
        "algorithm = config.framework(framework='tf2').environment(env=LunarLanderV2, env_config={}).build()\n",
        "\n",
        "def eval(policy, env, render):\n",
        "  cumulative_rewards = 0.0\n",
        "  done = False\n",
        "\n",
        "  obs, _ = env.reset()\n",
        "  while not done:\n",
        "    action = policy.compute_single_action(obs)[0]\n",
        "    obs, reward, terminated, truncated, info = env.step(action)\n",
        "    done = terminated or truncated\n",
        "    cumulative_rewards += reward\n",
        "\n",
        "    if render:\n",
        "      env.render()\n",
        "\n",
        "  return cumulative_rewards\n",
        "\n",
        "def train(agent, env, episodes):\n",
        "  cumulative_rewards_per_episode = []\n",
        "  for episode in range(episodes):\n",
        "    metrics_dict = algorithm.train()\n",
        "\n",
        "    cumulative_rewards = eval(agent.get_policy(), env, False)\n",
        "    cumulative_rewards_per_episode.append(cumulative_rewards)\n",
        "\n",
        "    print(f'Episode {episode} | Returns = {cumulative_rewards}')\n",
        "  return cumulative_rewards_per_episode\n",
        "\n",
        "returns = train(algorithm, LunarLanderV2(), 50)\n",
        "plt.plot(returns)\n",
        "plt.title('PPO in LunarLanderV2 Returns')\n",
        "plt.xlabel('Episode')\n",
        "plt.ylabel('Return')"
      ],
      "metadata": {
        "colab": {
          "base_uri": "https://localhost:8080/",
          "height": 1000
        },
        "id": "Wk65H-cQNC1G",
        "outputId": "04d6b6f4-49dd-4046-a2cf-5c269a1e7767"
      },
      "execution_count": 9,
      "outputs": [
        {
          "output_type": "stream",
          "name": "stderr",
          "text": [
            "2024-12-23 11:41:09,503\tINFO worker.py:1621 -- Started a local Ray instance.\n",
            "2024-12-23 11:41:11,698\tWARNING algorithm_config.py:2534 -- Setting `exploration_config={}` because you set `_enable_rl_module_api=True`. When RLModule API are enabled, exploration_config can not be set. If you want to implement custom exploration behaviour, please modify the `forward_exploration` method of the RLModule at hand. On configs that have a default exploration config, this must be done with `config.exploration_config={}`.\n",
            "2024-12-23 11:41:11,702\tWARNING algorithm_config.py:2534 -- Setting `exploration_config={}` because you set `_enable_rl_module_api=True`. When RLModule API are enabled, exploration_config can not be set. If you want to implement custom exploration behaviour, please modify the `forward_exploration` method of the RLModule at hand. On configs that have a default exploration config, this must be done with `config.exploration_config={}`.\n",
            "/usr/local/lib/python3.10/dist-packages/ray/rllib/algorithms/algorithm.py:484: RayDeprecationWarning: This API is deprecated and may be removed in future Ray releases. You could suppress this warning by setting env variable PYTHONWARNINGS=\"ignore::DeprecationWarning\"\n",
            "`UnifiedLogger` will be removed in Ray 2.7.\n",
            "  return UnifiedLogger(config, logdir, loggers=None)\n",
            "/usr/local/lib/python3.10/dist-packages/ray/tune/logger/unified.py:53: RayDeprecationWarning: This API is deprecated and may be removed in future Ray releases. You could suppress this warning by setting env variable PYTHONWARNINGS=\"ignore::DeprecationWarning\"\n",
            "The `JsonLogger interface is deprecated in favor of the `ray.tune.json.JsonLoggerCallback` interface and will be removed in Ray 2.7.\n",
            "  self._loggers.append(cls(self.config, self.logdir, self.trial))\n",
            "/usr/local/lib/python3.10/dist-packages/ray/tune/logger/unified.py:53: RayDeprecationWarning: This API is deprecated and may be removed in future Ray releases. You could suppress this warning by setting env variable PYTHONWARNINGS=\"ignore::DeprecationWarning\"\n",
            "The `CSVLogger interface is deprecated in favor of the `ray.tune.csv.CSVLoggerCallback` interface and will be removed in Ray 2.7.\n",
            "  self._loggers.append(cls(self.config, self.logdir, self.trial))\n",
            "/usr/local/lib/python3.10/dist-packages/ray/tune/logger/unified.py:53: RayDeprecationWarning: This API is deprecated and may be removed in future Ray releases. You could suppress this warning by setting env variable PYTHONWARNINGS=\"ignore::DeprecationWarning\"\n",
            "The `TBXLogger interface is deprecated in favor of the `ray.tune.tensorboardx.TBXLoggerCallback` interface and will be removed in Ray 2.7.\n",
            "  self._loggers.append(cls(self.config, self.logdir, self.trial))\n",
            "\u001b[2m\u001b[36m(pid=14200)\u001b[0m 2024-12-23 11:41:13.821431: W tensorflow/compiler/xla/stream_executor/platform/default/dso_loader.cc:64] Could not load dynamic library 'libcudart.so.11.0'; dlerror: libcudart.so.11.0: cannot open shared object file: No such file or directory; LD_LIBRARY_PATH: /usr/local/lib/python3.10/dist-packages/cv2/../../lib64:/usr/local/lib/python3.10/dist-packages/cv2/../../lib64:/usr/lib64-nvidia\n",
            "\u001b[2m\u001b[36m(pid=14200)\u001b[0m 2024-12-23 11:41:15.215687: W tensorflow/compiler/tf2tensorrt/utils/py_utils.cc:38] TF-TRT Warning: Cannot dlopen some TensorRT libraries. If you would like to use Nvidia GPU with TensorRT, please make sure the missing libraries mentioned above are installed properly.\n",
            "\u001b[2m\u001b[36m(pid=14200)\u001b[0m /usr/local/lib/python3.10/dist-packages/ray/tune/logger/tensorboardx.py:41: DeprecationWarning: `np.bool8` is a deprecated alias for `np.bool_`.  (Deprecated NumPy 1.24)\n",
            "\u001b[2m\u001b[36m(pid=14200)\u001b[0m   VALID_NP_HPARAMS = (np.bool8, np.float32, np.float64, np.int32, np.int64)\n",
            "\u001b[2m\u001b[36m(pid=14201)\u001b[0m 2024-12-23 11:41:15.343238: W tensorflow/compiler/xla/stream_executor/platform/default/dso_loader.cc:64] Could not load dynamic library 'libnvinfer_plugin.so.7'; dlerror: libnvinfer_plugin.so.7: cannot open shared object file: No such file or directory; LD_LIBRARY_PATH: /usr/local/lib/python3.10/dist-packages/cv2/../../lib64:/usr/local/lib/python3.10/dist-packages/cv2/../../lib64:/usr/lib64-nvidia\u001b[32m [repeated 5x across cluster]\u001b[0m\n",
            "\u001b[2m\u001b[36m(pid=14201)\u001b[0m 2024-12-23 11:41:15.343262: W tensorflow/compiler/tf2tensorrt/utils/py_utils.cc:38] TF-TRT Warning: Cannot dlopen some TensorRT libraries. If you would like to use Nvidia GPU with TensorRT, please make sure the missing libraries mentioned above are installed properly.\n",
            "\u001b[2m\u001b[36m(pid=14200)\u001b[0m /usr/local/lib/python3.10/dist-packages/tensorflow_probability/python/__init__.py:57: DeprecationWarning: distutils Version classes are deprecated. Use packaging.version instead.\n",
            "\u001b[2m\u001b[36m(pid=14200)\u001b[0m   if (distutils.version.LooseVersion(tf.__version__) <\n",
            "\u001b[2m\u001b[36m(pid=14200)\u001b[0m DeprecationWarning: `DirectStepOptimizer` has been deprecated. This will raise an error in the future!\n",
            "\u001b[2m\u001b[36m(RolloutWorker pid=14200)\u001b[0m <frozen importlib._bootstrap>:241: DeprecationWarning: builtin type SwigPyPacked has no __module__ attribute\n",
            "\u001b[2m\u001b[36m(RolloutWorker pid=14200)\u001b[0m <frozen importlib._bootstrap>:241: DeprecationWarning: builtin type SwigPyObject has no __module__ attribute\n",
            "\u001b[2m\u001b[36m(RolloutWorker pid=14200)\u001b[0m <frozen importlib._bootstrap>:241: DeprecationWarning: builtin type swigvarlink has no __module__ attribute\n",
            "\u001b[2m\u001b[36m(RolloutWorker pid=14200)\u001b[0m 2024-12-23 11:41:24,279\tWARNING env.py:162 -- Your env doesn't have a .spec.max_episode_steps attribute. Your horizon will default to infinity, and your environment will not be reset.\n",
            "\u001b[2m\u001b[36m(RolloutWorker pid=14200)\u001b[0m   if not isinstance(terminated, (bool, np.bool8)):\n",
            "\u001b[2m\u001b[36m(RolloutWorker pid=14200)\u001b[0m /usr/local/lib/python3.10/dist-packages/ray/rllib/models/catalog.py:790: DeprecationWarning: `product` is deprecated as of NumPy 1.25.0, and will be removed in NumPy 2.0. Please use `prod` instead.\n",
            "\u001b[2m\u001b[36m(RolloutWorker pid=14200)\u001b[0m   prep = cls(observation_space, options)\n",
            "\u001b[2m\u001b[36m(RolloutWorker pid=14200)\u001b[0m 2024-12-23 11:41:24.296958: E tensorflow/compiler/xla/stream_executor/cuda/cuda_driver.cc:267] failed call to cuInit: CUDA_ERROR_NO_DEVICE: no CUDA-capable device is detected\n",
            "\u001b[2m\u001b[36m(RolloutWorker pid=14200)\u001b[0m 2024-12-23 11:41:24,836\tWARNING deprecation.py:50 -- DeprecationWarning: `ValueNetworkMixin` has been deprecated. This will raise an error in the future!\n",
            "\u001b[2m\u001b[36m(RolloutWorker pid=14200)\u001b[0m 2024-12-23 11:41:24,837\tWARNING deprecation.py:50 -- DeprecationWarning: `EntropyCoeffSchedule` has been deprecated. This will raise an error in the future!\n",
            "\u001b[2m\u001b[36m(RolloutWorker pid=14200)\u001b[0m 2024-12-23 11:41:24,839\tWARNING deprecation.py:50 -- DeprecationWarning: `LearningRateSchedule` has been deprecated. This will raise an error in the future!\n",
            "\u001b[2m\u001b[36m(RolloutWorker pid=14200)\u001b[0m 2024-12-23 11:41:24,840\tWARNING deprecation.py:50 -- DeprecationWarning: `KLCoeffMixin` has been deprecated. This will raise an error in the future!\n",
            "\u001b[2m\u001b[36m(RolloutWorker pid=14200)\u001b[0m   self._preprocessor = get_preprocessor(obs_space)(\n",
            "/usr/local/lib/python3.10/dist-packages/ray/rllib/models/catalog.py:790: DeprecationWarning: `product` is deprecated as of NumPy 1.25.0, and will be removed in NumPy 2.0. Please use `prod` instead.\n",
            "  prep = cls(observation_space, options)\n",
            "/usr/local/lib/python3.10/dist-packages/ray/rllib/connectors/agent/obs_preproc.py:40: DeprecationWarning: `product` is deprecated as of NumPy 1.25.0, and will be removed in NumPy 2.0. Please use `prod` instead.\n",
            "  self._preprocessor = get_preprocessor(obs_space)(\n",
            "2024-12-23 11:41:25,447\tINFO trainable.py:172 -- Trainable.setup took 13.719 seconds. If your trainable is slow to initialize, consider setting reuse_actors=True to reduce actor creation overheads.\n",
            "2024-12-23 11:41:25,453\tWARNING util.py:68 -- Install gputil for GPU system monitoring.\n",
            "\u001b[2m\u001b[36m(RolloutWorker pid=14200)\u001b[0m WARNING:tensorflow:From /usr/local/lib/python3.10/dist-packages/tensorflow/python/autograph/pyct/static_analysis/liveness.py:83: Analyzer.lamba_check (from tensorflow.python.autograph.pyct.static_analysis.liveness) is deprecated and will be removed after 2023-09-23.\n",
            "\u001b[2m\u001b[36m(RolloutWorker pid=14200)\u001b[0m Instructions for updating:\n",
            "\u001b[2m\u001b[36m(RolloutWorker pid=14200)\u001b[0m Lambda fuctions will be no more assumed to be used in the statement where they are used, or at least in the same block. https://github.com/tensorflow/tensorflow/issues/56089\n",
            "/usr/local/lib/python3.10/dist-packages/gymnasium/utils/passive_env_checker.py:233: DeprecationWarning: `np.bool8` is a deprecated alias for `np.bool_`.  (Deprecated NumPy 1.24)\n",
            "  if not isinstance(terminated, (bool, np.bool8)):\n"
          ]
        },
        {
          "output_type": "stream",
          "name": "stdout",
          "text": [
            "Episode 0 | Returns = -258.6157997410638\n",
            "Episode 1 | Returns = -78.34635444380636\n",
            "Episode 2 | Returns = -130.08181530760302\n",
            "Episode 3 | Returns = -102.95149314826647\n",
            "Episode 4 | Returns = -160.3082479506226\n",
            "Episode 5 | Returns = -31.665315979498317\n",
            "Episode 6 | Returns = -28.141030435489014\n",
            "Episode 7 | Returns = -213.05098212272648\n",
            "Episode 8 | Returns = 13.338919629261625\n",
            "Episode 9 | Returns = -16.970054333788298\n",
            "Episode 10 | Returns = -53.618886582122165\n",
            "Episode 11 | Returns = -22.298512221033704\n",
            "Episode 12 | Returns = -2.6016544443502028\n",
            "Episode 13 | Returns = 76.82524503446645\n",
            "Episode 14 | Returns = -25.164120288182687\n",
            "Episode 15 | Returns = -36.92021805920674\n",
            "Episode 16 | Returns = 92.54271260372869\n",
            "Episode 17 | Returns = -18.89863746412378\n",
            "Episode 18 | Returns = 164.59698872153473\n",
            "Episode 19 | Returns = 98.6525766934777\n",
            "Episode 20 | Returns = -35.517373570016815\n",
            "Episode 21 | Returns = 71.95867257451474\n",
            "Episode 22 | Returns = -39.41943898453522\n",
            "Episode 23 | Returns = 66.27863499242974\n",
            "Episode 24 | Returns = -66.24055417002371\n",
            "Episode 25 | Returns = -22.77419096310871\n",
            "Episode 26 | Returns = 34.76455394538975\n",
            "Episode 27 | Returns = 65.11809154300046\n",
            "Episode 28 | Returns = -42.94234239408382\n",
            "Episode 29 | Returns = 2.522635145423095\n",
            "Episode 30 | Returns = -29.476626534528563\n",
            "Episode 31 | Returns = -9.043343571350235\n",
            "Episode 32 | Returns = 75.99586970488467\n",
            "Episode 33 | Returns = -23.689117394459743\n",
            "Episode 34 | Returns = -25.69172828699493\n",
            "Episode 35 | Returns = -46.67967151459923\n",
            "Episode 36 | Returns = -26.48222879777562\n",
            "Episode 37 | Returns = 64.81263261028755\n",
            "Episode 38 | Returns = -19.658394516474303\n",
            "Episode 39 | Returns = 4.712911727121863\n",
            "Episode 40 | Returns = -20.180657182490975\n",
            "Episode 41 | Returns = -51.225518124897235\n",
            "Episode 42 | Returns = 126.15759502012864\n",
            "Episode 43 | Returns = 143.01006984159937\n",
            "Episode 44 | Returns = -113.66293634263579\n",
            "Episode 45 | Returns = -53.22997232070559\n",
            "Episode 46 | Returns = 135.14818791848836\n",
            "Episode 47 | Returns = -67.77403593680158\n",
            "Episode 48 | Returns = 144.764671963194\n",
            "Episode 49 | Returns = 270.5835807241492\n"
          ]
        },
        {
          "output_type": "execute_result",
          "data": {
            "text/plain": [
              "Text(0, 0.5, 'Return')"
            ]
          },
          "metadata": {},
          "execution_count": 9
        },
        {
          "output_type": "display_data",
          "data": {
            "text/plain": [
              "<Figure size 640x480 with 1 Axes>"
            ],
            "image/png": "[encoded data removed]"
          },
          "metadata": {}
        }
      ]
    },
    {
      "cell_type": "markdown",
      "source": [
        "## 6. Agent Visualization"
      ],
      "metadata": {
        "id": "YAuqFcVuRvsH"
      }
    },
    {
      "cell_type": "code",
      "source": [
        "import renderlab as rl\n",
        "\n",
        "env = gym.make('LunarLander-v2', render_mode='rgb_array')\n",
        "env = rl.RenderFrame(env, './output')\n",
        "\n",
        "observation, info = env.reset()\n",
        "\n",
        "while True:\n",
        "  action = algorithm.compute_single_action(observation)\n",
        "  observation, reward, terminated, truncated, info = env.step(action)\n",
        "\n",
        "  if terminated or truncated:\n",
        "    break\n",
        "\n",
        "env.play()"
      ],
      "metadata": {
        "colab": {
          "base_uri": "https://localhost:8080/",
          "height": 753
        },
        "id": "wS5WPu6eRzxL",
        "outputId": "4afeea6f-988b-47cb-a836-bc4e092e8253"
      },
      "execution_count": 10,
      "outputs": [
        {
          "output_type": "stream",
          "name": "stderr",
          "text": [
            "/usr/local/lib/python3.10/dist-packages/moviepy/config_defaults.py:1: DeprecationWarning: invalid escape sequence '\\P'\n",
            "  \"\"\"\n",
            "/usr/local/lib/python3.10/dist-packages/moviepy/video/io/ffmpeg_reader.py:294: DeprecationWarning: invalid escape sequence '\\d'\n",
            "  lines_video = [l for l in lines if ' Video: ' in l and re.search('\\d+x\\d+', l)]\n",
            "WARNING:py.warnings:/usr/local/lib/python3.10/dist-packages/moviepy/video/fx/painting.py:7: DeprecationWarning: Please import `sobel` from the `scipy.ndimage` namespace; the `scipy.ndimage.filters` namespace is deprecated and will be removed in SciPy 2.0.0.\n",
            "  from scipy.ndimage.filters import sobel\n",
            "\n",
            "WARNING:py.warnings:/usr/local/lib/python3.10/dist-packages/moviepy/video/io/sliders.py:61: SyntaxWarning: \"is\" with a literal. Did you mean \"==\"?\n",
            "  if event.key is 'enter':\n",
            "\n",
            "WARNING:py.warnings:/usr/local/lib/python3.10/dist-packages/gymnasium/utils/passive_env_checker.py:233: DeprecationWarning: `np.bool8` is a deprecated alias for `np.bool_`.  (Deprecated NumPy 1.24)\n",
            "  if not isinstance(terminated, (bool, np.bool8)):\n",
            "\n"
          ]
        },
        {
          "output_type": "stream",
          "name": "stdout",
          "text": [
            "Moviepy - Building video temp-{start}.mp4.\n",
            "Moviepy - Writing video temp-{start}.mp4\n",
            "\n"
          ]
        },
        {
          "output_type": "stream",
          "name": "stderr",
          "text": []
        },
        {
          "output_type": "stream",
          "name": "stdout",
          "text": [
            "Moviepy - Done !\n",
            "Moviepy - video ready temp-{start}.mp4\n"
          ]
        },
        {
          "output_type": "display_data",
          "data": {
            "text/plain": [
              "<IPython.core.display.Video object>"
            ],
            "text/html": [
              "<video controls  >\n",
              " <source src=\"data:video/mp4;base64,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\" type=\"video/mp4\">\n",
              " Your browser does not support the video tag.\n",
              " </video>"
            ]
          },
          "metadata": {}
        }
      ]
    }
  ]
}