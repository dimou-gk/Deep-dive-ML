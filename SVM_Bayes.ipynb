{
  "nbformat": 4,
  "nbformat_minor": 0,
  "metadata": {
    "colab": {
      "provenance": [],
      "toc_visible": true,
      "authorship_tag": "ABX9TyMlhnCd1mDdvabREgAa/rt+",
      "include_colab_link": true
    },
    "kernelspec": {
      "name": "python3",
      "display_name": "Python 3"
    },
    "language_info": {
      "name": "python"
    }
  },
  "cells": [
    {
      "cell_type": "markdown",
      "metadata": {
        "id": "view-in-github",
        "colab_type": "text"
      },
      "source": [
        "<a href=\"https://colab.research.google.com/github/dimou-gk/Deep-dive-ML/blob/main/SVM_Bayes.ipynb\" target=\"_parent\"><img src=\"https://colab.research.google.com/assets/colab-badge.svg\" alt=\"Open In Colab\"/></a>"
      ]
    },
    {
      "cell_type": "markdown",
      "source": [
        "# Load libraries"
      ],
      "metadata": {
        "id": "jbVLgtwrBiUt"
      }
    },
    {
      "cell_type": "code",
      "execution_count": 2,
      "metadata": {
        "id": "rIhbmN3jBOzc"
      },
      "outputs": [],
      "source": [
        "import pandas as pd\n",
        "from pandas import DataFrame\n",
        "from sklearn.model_selection import train_test_split\n",
        "from sklearn.metrics import accuracy_score, recall_score, precision_score, f1_score, classification_report\n",
        "import matplotlib.pyplot as plt\n",
        "import numpy as np\n",
        "from google.colab import drive"
      ]
    },
    {
      "cell_type": "code",
      "source": [
        "from google.colab import drive\n",
        "drive.mount('/content/drive')"
      ],
      "metadata": {
        "colab": {
          "base_uri": "https://localhost:8080/"
        },
        "id": "65bGtMonBmHl",
        "outputId": "593031f7-ae09-453b-9621-bf57e62345aa"
      },
      "execution_count": 3,
      "outputs": [
        {
          "output_type": "stream",
          "name": "stdout",
          "text": [
            "Drive already mounted at /content/drive; to attempt to forcibly remount, call drive.mount(\"/content/drive\", force_remount=True).\n"
          ]
        }
      ]
    },
    {
      "cell_type": "markdown",
      "source": [
        "# Load Dataset & Analysis"
      ],
      "metadata": {
        "id": "saWXLOJZBrDl"
      }
    },
    {
      "cell_type": "code",
      "source": [
        "df = pd.read_csv('/content/drive/MyDrive/MSc Data and Web Science/Machine Learning/Exercise 7/train.csv')\n",
        "df.describe()"
      ],
      "metadata": {
        "colab": {
          "base_uri": "https://localhost:8080/",
          "height": 300
        },
        "id": "O0rQpSJzKMQG",
        "outputId": "05a45a93-244a-4e88-b2f5-9fc0cc078a9e"
      },
      "execution_count": 4,
      "outputs": [
        {
          "output_type": "execute_result",
          "data": {
            "text/plain": [
              "                 id      target\n",
              "count   7613.000000  7613.00000\n",
              "mean    5441.934848     0.42966\n",
              "std     3137.116090     0.49506\n",
              "min        1.000000     0.00000\n",
              "25%     2734.000000     0.00000\n",
              "50%     5408.000000     0.00000\n",
              "75%     8146.000000     1.00000\n",
              "max    10873.000000     1.00000"
            ],
            "text/html": [
              "\n",
              "  <div id=\"df-c9f8c0d2-739d-483b-a6c5-dcd27275acd5\" class=\"colab-df-container\">\n",
              "    <div>\n",
              "<style scoped>\n",
              "    .dataframe tbody tr th:only-of-type {\n",
              "        vertical-align: middle;\n",
              "    }\n",
              "\n",
              "    .dataframe tbody tr th {\n",
              "        vertical-align: top;\n",
              "    }\n",
              "\n",
              "    .dataframe thead th {\n",
              "        text-align: right;\n",
              "    }\n",
              "</style>\n",
              "<table border=\"1\" class=\"dataframe\">\n",
              "  <thead>\n",
              "    <tr style=\"text-align: right;\">\n",
              "      <th></th>\n",
              "      <th>id</th>\n",
              "      <th>target</th>\n",
              "    </tr>\n",
              "  </thead>\n",
              "  <tbody>\n",
              "    <tr>\n",
              "      <th>count</th>\n",
              "      <td>7613.000000</td>\n",
              "      <td>7613.00000</td>\n",
              "    </tr>\n",
              "    <tr>\n",
              "      <th>mean</th>\n",
              "      <td>5441.934848</td>\n",
              "      <td>0.42966</td>\n",
              "    </tr>\n",
              "    <tr>\n",
              "      <th>std</th>\n",
              "      <td>3137.116090</td>\n",
              "      <td>0.49506</td>\n",
              "    </tr>\n",
              "    <tr>\n",
              "      <th>min</th>\n",
              "      <td>1.000000</td>\n",
              "      <td>0.00000</td>\n",
              "    </tr>\n",
              "    <tr>\n",
              "      <th>25%</th>\n",
              "      <td>2734.000000</td>\n",
              "      <td>0.00000</td>\n",
              "    </tr>\n",
              "    <tr>\n",
              "      <th>50%</th>\n",
              "      <td>5408.000000</td>\n",
              "      <td>0.00000</td>\n",
              "    </tr>\n",
              "    <tr>\n",
              "      <th>75%</th>\n",
              "      <td>8146.000000</td>\n",
              "      <td>1.00000</td>\n",
              "    </tr>\n",
              "    <tr>\n",
              "      <th>max</th>\n",
              "      <td>10873.000000</td>\n",
              "      <td>1.00000</td>\n",
              "    </tr>\n",
              "  </tbody>\n",
              "</table>\n",
              "</div>\n",
              "    <div class=\"colab-df-buttons\">\n",
              "\n",
              "  <div class=\"colab-df-container\">\n",
              "    <button class=\"colab-df-convert\" onclick=\"convertToInteractive('df-c9f8c0d2-739d-483b-a6c5-dcd27275acd5')\"\n",
              "            title=\"Convert this dataframe to an interactive table.\"\n",
              "            style=\"display:none;\">\n",
              "\n",
              "  <svg xmlns=\"http://www.w3.org/2000/svg\" height=\"24px\" viewBox=\"0 -960 960 960\">\n",
              "    <path d=\"M120-120v-720h720v720H120Zm60-500h600v-160H180v160Zm220 220h160v-160H400v160Zm0 220h160v-160H400v160ZM180-400h160v-160H180v160Zm440 0h160v-160H620v160ZM180-180h160v-160H180v160Zm440 0h160v-160H620v160Z\"/>\n",
              "  </svg>\n",
              "    </button>\n",
              "\n",
              "  <style>\n",
              "    .colab-df-container {\n",
              "      display:flex;\n",
              "      gap: 12px;\n",
              "    }\n",
              "\n",
              "    .colab-df-convert {\n",
              "      background-color: #E8F0FE;\n",
              "      border: none;\n",
              "      border-radius: 50%;\n",
              "      cursor: pointer;\n",
              "      display: none;\n",
              "      fill: #1967D2;\n",
              "      height: 32px;\n",
              "      padding: 0 0 0 0;\n",
              "      width: 32px;\n",
              "    }\n",
              "\n",
              "    .colab-df-convert:hover {\n",
              "      background-color: #E2EBFA;\n",
              "      box-shadow: 0px 1px 2px rgba(60, 64, 67, 0.3), 0px 1px 3px 1px rgba(60, 64, 67, 0.15);\n",
              "      fill: #174EA6;\n",
              "    }\n",
              "\n",
              "    .colab-df-buttons div {\n",
              "      margin-bottom: 4px;\n",
              "    }\n",
              "\n",
              "    [theme=dark] .colab-df-convert {\n",
              "      background-color: #3B4455;\n",
              "      fill: #D2E3FC;\n",
              "    }\n",
              "\n",
              "    [theme=dark] .colab-df-convert:hover {\n",
              "      background-color: #434B5C;\n",
              "      box-shadow: 0px 1px 3px 1px rgba(0, 0, 0, 0.15);\n",
              "      filter: drop-shadow(0px 1px 2px rgba(0, 0, 0, 0.3));\n",
              "      fill: #FFFFFF;\n",
              "    }\n",
              "  </style>\n",
              "\n",
              "    <script>\n",
              "      const buttonEl =\n",
              "        document.querySelector('#df-c9f8c0d2-739d-483b-a6c5-dcd27275acd5 button.colab-df-convert');\n",
              "      buttonEl.style.display =\n",
              "        google.colab.kernel.accessAllowed ? 'block' : 'none';\n",
              "\n",
              "      async function convertToInteractive(key) {\n",
              "        const element = document.querySelector('#df-c9f8c0d2-739d-483b-a6c5-dcd27275acd5');\n",
              "        const dataTable =\n",
              "          await google.colab.kernel.invokeFunction('convertToInteractive',\n",
              "                                                    [key], {});\n",
              "        if (!dataTable) return;\n",
              "\n",
              "        const docLinkHtml = 'Like what you see? Visit the ' +\n",
              "          '<a target=\"_blank\" href=https://colab.research.google.com/notebooks/data_table.ipynb>data table notebook</a>'\n",
              "          + ' to learn more about interactive tables.';\n",
              "        element.innerHTML = '';\n",
              "        dataTable['output_type'] = 'display_data';\n",
              "        await google.colab.output.renderOutput(dataTable, element);\n",
              "        const docLink = document.createElement('div');\n",
              "        docLink.innerHTML = docLinkHtml;\n",
              "        element.appendChild(docLink);\n",
              "      }\n",
              "    </script>\n",
              "  </div>\n",
              "\n",
              "\n",
              "<div id=\"df-b46480bf-45b8-42dd-ad7a-12155a72af24\">\n",
              "  <button class=\"colab-df-quickchart\" onclick=\"quickchart('df-b46480bf-45b8-42dd-ad7a-12155a72af24')\"\n",
              "            title=\"Suggest charts\"\n",
              "            style=\"display:none;\">\n",
              "\n",
              "<svg xmlns=\"http://www.w3.org/2000/svg\" height=\"24px\"viewBox=\"0 0 24 24\"\n",
              "     width=\"24px\">\n",
              "    <g>\n",
              "        <path d=\"M19 3H5c-1.1 0-2 .9-2 2v14c0 1.1.9 2 2 2h14c1.1 0 2-.9 2-2V5c0-1.1-.9-2-2-2zM9 17H7v-7h2v7zm4 0h-2V7h2v10zm4 0h-2v-4h2v4z\"/>\n",
              "    </g>\n",
              "</svg>\n",
              "  </button>\n",
              "\n",
              "<style>\n",
              "  .colab-df-quickchart {\n",
              "      --bg-color: #E8F0FE;\n",
              "      --fill-color: #1967D2;\n",
              "      --hover-bg-color: #E2EBFA;\n",
              "      --hover-fill-color: #174EA6;\n",
              "      --disabled-fill-color: #AAA;\n",
              "      --disabled-bg-color: #DDD;\n",
              "  }\n",
              "\n",
              "  [theme=dark] .colab-df-quickchart {\n",
              "      --bg-color: #3B4455;\n",
              "      --fill-color: #D2E3FC;\n",
              "      --hover-bg-color: #434B5C;\n",
              "      --hover-fill-color: #FFFFFF;\n",
              "      --disabled-bg-color: #3B4455;\n",
              "      --disabled-fill-color: #666;\n",
              "  }\n",
              "\n",
              "  .colab-df-quickchart {\n",
              "    background-color: var(--bg-color);\n",
              "    border: none;\n",
              "    border-radius: 50%;\n",
              "    cursor: pointer;\n",
              "    display: none;\n",
              "    fill: var(--fill-color);\n",
              "    height: 32px;\n",
              "    padding: 0;\n",
              "    width: 32px;\n",
              "  }\n",
              "\n",
              "  .colab-df-quickchart:hover {\n",
              "    background-color: var(--hover-bg-color);\n",
              "    box-shadow: 0 1px 2px rgba(60, 64, 67, 0.3), 0 1px 3px 1px rgba(60, 64, 67, 0.15);\n",
              "    fill: var(--button-hover-fill-color);\n",
              "  }\n",
              "\n",
              "  .colab-df-quickchart-complete:disabled,\n",
              "  .colab-df-quickchart-complete:disabled:hover {\n",
              "    background-color: var(--disabled-bg-color);\n",
              "    fill: var(--disabled-fill-color);\n",
              "    box-shadow: none;\n",
              "  }\n",
              "\n",
              "  .colab-df-spinner {\n",
              "    border: 2px solid var(--fill-color);\n",
              "    border-color: transparent;\n",
              "    border-bottom-color: var(--fill-color);\n",
              "    animation:\n",
              "      spin 1s steps(1) infinite;\n",
              "  }\n",
              "\n",
              "  @keyframes spin {\n",
              "    0% {\n",
              "      border-color: transparent;\n",
              "      border-bottom-color: var(--fill-color);\n",
              "      border-left-color: var(--fill-color);\n",
              "    }\n",
              "    20% {\n",
              "      border-color: transparent;\n",
              "      border-left-color: var(--fill-color);\n",
              "      border-top-color: var(--fill-color);\n",
              "    }\n",
              "    30% {\n",
              "      border-color: transparent;\n",
              "      border-left-color: var(--fill-color);\n",
              "      border-top-color: var(--fill-color);\n",
              "      border-right-color: var(--fill-color);\n",
              "    }\n",
              "    40% {\n",
              "      border-color: transparent;\n",
              "      border-right-color: var(--fill-color);\n",
              "      border-top-color: var(--fill-color);\n",
              "    }\n",
              "    60% {\n",
              "      border-color: transparent;\n",
              "      border-right-color: var(--fill-color);\n",
              "    }\n",
              "    80% {\n",
              "      border-color: transparent;\n",
              "      border-right-color: var(--fill-color);\n",
              "      border-bottom-color: var(--fill-color);\n",
              "    }\n",
              "    90% {\n",
              "      border-color: transparent;\n",
              "      border-bottom-color: var(--fill-color);\n",
              "    }\n",
              "  }\n",
              "</style>\n",
              "\n",
              "  <script>\n",
              "    async function quickchart(key) {\n",
              "      const quickchartButtonEl =\n",
              "        document.querySelector('#' + key + ' button');\n",
              "      quickchartButtonEl.disabled = true;  // To prevent multiple clicks.\n",
              "      quickchartButtonEl.classList.add('colab-df-spinner');\n",
              "      try {\n",
              "        const charts = await google.colab.kernel.invokeFunction(\n",
              "            'suggestCharts', [key], {});\n",
              "      } catch (error) {\n",
              "        console.error('Error during call to suggestCharts:', error);\n",
              "      }\n",
              "      quickchartButtonEl.classList.remove('colab-df-spinner');\n",
              "      quickchartButtonEl.classList.add('colab-df-quickchart-complete');\n",
              "    }\n",
              "    (() => {\n",
              "      let quickchartButtonEl =\n",
              "        document.querySelector('#df-b46480bf-45b8-42dd-ad7a-12155a72af24 button');\n",
              "      quickchartButtonEl.style.display =\n",
              "        google.colab.kernel.accessAllowed ? 'block' : 'none';\n",
              "    })();\n",
              "  </script>\n",
              "</div>\n",
              "\n",
              "    </div>\n",
              "  </div>\n"
            ],
            "application/vnd.google.colaboratory.intrinsic+json": {
              "type": "dataframe",
              "summary": "{\n  \"name\": \"df\",\n  \"rows\": 8,\n  \"fields\": [\n    {\n      \"column\": \"id\",\n      \"properties\": {\n        \"dtype\": \"number\",\n        \"std\": 3459.3118775230537,\n        \"min\": 1.0,\n        \"max\": 10873.0,\n        \"num_unique_values\": 8,\n        \"samples\": [\n          5441.934848285827,\n          5408.0,\n          7613.0\n        ],\n        \"semantic_type\": \"\",\n        \"description\": \"\"\n      }\n    },\n    {\n      \"column\": \"target\",\n      \"properties\": {\n        \"dtype\": \"number\",\n        \"std\": 2691.454273978321,\n        \"min\": 0.0,\n        \"max\": 7613.0,\n        \"num_unique_values\": 5,\n        \"samples\": [\n          0.4296597924602653,\n          1.0,\n          0.4950600449341643\n        ],\n        \"semantic_type\": \"\",\n        \"description\": \"\"\n      }\n    }\n  ]\n}"
            }
          },
          "metadata": {},
          "execution_count": 4
        }
      ]
    },
    {
      "cell_type": "code",
      "source": [
        "# x = df.drop(columns='target').to_numpy()\n",
        "# y = df['target'].to_numpy()\n",
        "\n",
        "# x_train, x_test, y_train, y_test = train_test_split(x, y, test_size=0.1, random_state=0, stratify=y)\n",
        "# x_train.shape, x_test.shape, y_train.shape, y_test.shape\n",
        "\n",
        "train_df, test_df = train_test_split(df, test_size=0.1, stratify=df['target'], random_state=0)\n",
        "train_df.shape, test_df.shape"
      ],
      "metadata": {
        "colab": {
          "base_uri": "https://localhost:8080/"
        },
        "id": "9QrHNz0PKjrM",
        "outputId": "7503eb52-61cc-4033-d9e7-852ba2a48563"
      },
      "execution_count": 5,
      "outputs": [
        {
          "output_type": "execute_result",
          "data": {
            "text/plain": [
              "((6851, 5), (762, 5))"
            ]
          },
          "metadata": {},
          "execution_count": 5
        }
      ]
    },
    {
      "cell_type": "code",
      "source": [
        "train_counts = train_df['target'].value_counts()\n",
        "test_counts = test_df['target'].value_counts()\n",
        "\n",
        "counts_df = pd.DataFrame({'Train': train_counts, 'Test': test_counts}).transpose()\n",
        "counts_df.plot(kind='bar', figsize=(8, 5))\n",
        "plt.ylabel('Count')\n",
        "plt.title('Target Counts in Train and Test Sets')\n",
        "plt.show()"
      ],
      "metadata": {
        "colab": {
          "base_uri": "https://localhost:8080/",
          "height": 487
        },
        "id": "HUv8kMzZLryd",
        "outputId": "3cdca9e5-3a29-4276-b0bc-0048e32beeea"
      },
      "execution_count": 6,
      "outputs": [
        {
          "output_type": "display_data",
          "data": {
            "text/plain": [
              "<Figure size 800x500 with 1 Axes>"
            ],
            "image/png": "[encoded data removed]"
          },
          "metadata": {}
        }
      ]
    },
    {
      "cell_type": "markdown",
      "source": [
        "From the barplot we can safely assume that the examples on the two classes on the two datasets are somewhat distributed equally"
      ],
      "metadata": {
        "id": "V9eFi3CqOU8e"
      }
    },
    {
      "cell_type": "markdown",
      "source": [
        "# 2-5 Preprocessing"
      ],
      "metadata": {
        "id": "rXQqBBLkO41E"
      }
    },
    {
      "cell_type": "code",
      "source": [
        "train_df.drop(columns=['id', 'location'], inplace=True)\n",
        "test_df.drop(columns=['id', 'location'], inplace=True)\n",
        "\n",
        "train_df.fillna(value='null')\n",
        "test_df.fillna(value='null')\n",
        "\n",
        "train_df['inputs'] = train_df['keyword'] + ' ' + train_df['text']\n",
        "test_df['inputs'] = test_df['keyword'] + ' ' + test_df['text']"
      ],
      "metadata": {
        "id": "fF1AQyRkOlMF"
      },
      "execution_count": 7,
      "outputs": []
    },
    {
      "cell_type": "code",
      "source": [
        "import re\n",
        "from functools import partial\n",
        "from collections import Counter\n",
        "import nltk\n",
        "from nltk.corpus import wordnet\n",
        "from nltk.corpus import stopwords\n",
        "from nltk.stem import WordNetLemmatizer\n",
        "from nltk.stem.porter import PorterStemmer\n",
        "\n",
        "\n",
        "def replaceURL(text):\n",
        "    \"\"\" Replaces url address with \"url\" \"\"\"\n",
        "    text = re.sub('((www\\.[^\\s]+)|(https?://[^\\s]+))','url',text)\n",
        "    text = re.sub(r'#([^\\s]+)', r'\\1', text)\n",
        "    return text\n",
        "\n",
        "def replaceAtUser(text):\n",
        "    \"\"\" Replaces \"@user\" with \"atUser\" \"\"\"\n",
        "    text = re.sub('@[^\\s]+','atUser',text)\n",
        "    return text\n",
        "\n",
        "with open('/content/drive/MyDrive/MSc Data and Web Science/Machine Learning/Exercise 7/slang.txt') as file:\n",
        "    slang_map = dict(map(str.strip, line.partition('\\t')[::2])\n",
        "    for line in file if line.strip())\n",
        "\n",
        "slang_words = sorted(slang_map, key=len, reverse=True) # longest first for regex\n",
        "regex = re.compile(r\"\\b({})\\b\".format(\"|\".join(map(re.escape, slang_words))))\n",
        "replaceSlang = partial(regex.sub, lambda m: slang_map[m.group(1)])\n",
        "\n",
        "\n",
        "train_df['inputs'].apply(lambda x: replaceSlang(replaceAtUser(replaceURL(str(x)))) if pd.notnull(x) else x)\n",
        "test_df['inputs'].apply(lambda x: replaceSlang(replaceAtUser(replaceURL(str(x)))) if pd.notnull(x) else x)"
      ],
      "metadata": {
        "colab": {
          "base_uri": "https://localhost:8080/",
          "height": 458
        },
        "id": "GZK5RXYxg3w_",
        "outputId": "8adaa926-77b3-4468-e9e1-a93d25d58598"
      },
      "execution_count": 8,
      "outputs": [
        {
          "output_type": "execute_result",
          "data": {
            "text/plain": [
              "604     bioterror FedEx no longer to transport bioterr...\n",
              "5374    panic Panic over: Patient in Alabama tests neg...\n",
              "3022    dust%20storm New Mad Max Screenshots Show Off ...\n",
              "3357    evacuated Rocky fire in Northern California sw...\n",
              "4726    lava atUser Lava Blast &amp; Power Red atUser ...\n",
              "                              ...                        \n",
              "5098    nuclear%20disaster refugees of nuclear disaste...\n",
              "525     avalanche Musician Kalle Mattson Recreates 34 ...\n",
              "5169    obliterate atUser good sir I did not wish to b...\n",
              "3592    fatal Man charged over fatal crash near Dubbo ...\n",
              "4297    hellfire atUser atUser then I do this to one o...\n",
              "Name: inputs, Length: 762, dtype: object"
            ],
            "text/html": [
              "<div>\n",
              "<style scoped>\n",
              "    .dataframe tbody tr th:only-of-type {\n",
              "        vertical-align: middle;\n",
              "    }\n",
              "\n",
              "    .dataframe tbody tr th {\n",
              "        vertical-align: top;\n",
              "    }\n",
              "\n",
              "    .dataframe thead th {\n",
              "        text-align: right;\n",
              "    }\n",
              "</style>\n",
              "<table border=\"1\" class=\"dataframe\">\n",
              "  <thead>\n",
              "    <tr style=\"text-align: right;\">\n",
              "      <th></th>\n",
              "      <th>inputs</th>\n",
              "    </tr>\n",
              "  </thead>\n",
              "  <tbody>\n",
              "    <tr>\n",
              "      <th>604</th>\n",
              "      <td>bioterror FedEx no longer to transport bioterr...</td>\n",
              "    </tr>\n",
              "    <tr>\n",
              "      <th>5374</th>\n",
              "      <td>panic Panic over: Patient in Alabama tests neg...</td>\n",
              "    </tr>\n",
              "    <tr>\n",
              "      <th>3022</th>\n",
              "      <td>dust%20storm New Mad Max Screenshots Show Off ...</td>\n",
              "    </tr>\n",
              "    <tr>\n",
              "      <th>3357</th>\n",
              "      <td>evacuated Rocky fire in Northern California sw...</td>\n",
              "    </tr>\n",
              "    <tr>\n",
              "      <th>4726</th>\n",
              "      <td>lava atUser Lava Blast &amp;amp; Power Red atUser ...</td>\n",
              "    </tr>\n",
              "    <tr>\n",
              "      <th>...</th>\n",
              "      <td>...</td>\n",
              "    </tr>\n",
              "    <tr>\n",
              "      <th>5098</th>\n",
              "      <td>nuclear%20disaster refugees of nuclear disaste...</td>\n",
              "    </tr>\n",
              "    <tr>\n",
              "      <th>525</th>\n",
              "      <td>avalanche Musician Kalle Mattson Recreates 34 ...</td>\n",
              "    </tr>\n",
              "    <tr>\n",
              "      <th>5169</th>\n",
              "      <td>obliterate atUser good sir I did not wish to b...</td>\n",
              "    </tr>\n",
              "    <tr>\n",
              "      <th>3592</th>\n",
              "      <td>fatal Man charged over fatal crash near Dubbo ...</td>\n",
              "    </tr>\n",
              "    <tr>\n",
              "      <th>4297</th>\n",
              "      <td>hellfire atUser atUser then I do this to one o...</td>\n",
              "    </tr>\n",
              "  </tbody>\n",
              "</table>\n",
              "<p>762 rows × 1 columns</p>\n",
              "</div><br><label><b>dtype:</b> object</label>"
            ]
          },
          "metadata": {},
          "execution_count": 8
        }
      ]
    },
    {
      "cell_type": "code",
      "source": [
        "train_df.head()"
      ],
      "metadata": {
        "colab": {
          "base_uri": "https://localhost:8080/",
          "height": 206
        },
        "id": "AfUiQBijJsd6",
        "outputId": "a658d840-d8f4-40f2-f60f-dfe01657fa69"
      },
      "execution_count": 9,
      "outputs": [
        {
          "output_type": "execute_result",
          "data": {
            "text/plain": [
              "        keyword                                               text  target  \\\n",
              "6669     threat  Meek Mill responds to DrakeÛªs OVO Fest set w...       1   \n",
              "3940      flood  survived the plague\\nfloated the flood\\njust p...       0   \n",
              "7217    weapons  #Kick Hendrixonfire  @'=BLACKCATS= | BIG NOOB ...       0   \n",
              "2234     deluge  Vince McMahon once again a billionaire: I reme...       0   \n",
              "4233  hazardous  Is it possible to sneak into a hospital so I c...       0   \n",
              "\n",
              "                                                 inputs  \n",
              "6669  threat Meek Mill responds to DrakeÛªs OVO Fes...  \n",
              "3940  flood survived the plague\\nfloated the flood\\n...  \n",
              "7217  weapons #Kick Hendrixonfire  @'=BLACKCATS= | B...  \n",
              "2234  deluge Vince McMahon once again a billionaire:...  \n",
              "4233  hazardous Is it possible to sneak into a hospi...  "
            ],
            "text/html": [
              "\n",
              "  <div id=\"df-1a1bc13b-592c-42b5-893f-b1210283682f\" class=\"colab-df-container\">\n",
              "    <div>\n",
              "<style scoped>\n",
              "    .dataframe tbody tr th:only-of-type {\n",
              "        vertical-align: middle;\n",
              "    }\n",
              "\n",
              "    .dataframe tbody tr th {\n",
              "        vertical-align: top;\n",
              "    }\n",
              "\n",
              "    .dataframe thead th {\n",
              "        text-align: right;\n",
              "    }\n",
              "</style>\n",
              "<table border=\"1\" class=\"dataframe\">\n",
              "  <thead>\n",
              "    <tr style=\"text-align: right;\">\n",
              "      <th></th>\n",
              "      <th>keyword</th>\n",
              "      <th>text</th>\n",
              "      <th>target</th>\n",
              "      <th>inputs</th>\n",
              "    </tr>\n",
              "  </thead>\n",
              "  <tbody>\n",
              "    <tr>\n",
              "      <th>6669</th>\n",
              "      <td>threat</td>\n",
              "      <td>Meek Mill responds to DrakeÛªs OVO Fest set w...</td>\n",
              "      <td>1</td>\n",
              "      <td>threat Meek Mill responds to DrakeÛªs OVO Fes...</td>\n",
              "    </tr>\n",
              "    <tr>\n",
              "      <th>3940</th>\n",
              "      <td>flood</td>\n",
              "      <td>survived the plague\\nfloated the flood\\njust p...</td>\n",
              "      <td>0</td>\n",
              "      <td>flood survived the plague\\nfloated the flood\\n...</td>\n",
              "    </tr>\n",
              "    <tr>\n",
              "      <th>7217</th>\n",
              "      <td>weapons</td>\n",
              "      <td>#Kick Hendrixonfire  @'=BLACKCATS= | BIG NOOB ...</td>\n",
              "      <td>0</td>\n",
              "      <td>weapons #Kick Hendrixonfire  @'=BLACKCATS= | B...</td>\n",
              "    </tr>\n",
              "    <tr>\n",
              "      <th>2234</th>\n",
              "      <td>deluge</td>\n",
              "      <td>Vince McMahon once again a billionaire: I reme...</td>\n",
              "      <td>0</td>\n",
              "      <td>deluge Vince McMahon once again a billionaire:...</td>\n",
              "    </tr>\n",
              "    <tr>\n",
              "      <th>4233</th>\n",
              "      <td>hazardous</td>\n",
              "      <td>Is it possible to sneak into a hospital so I c...</td>\n",
              "      <td>0</td>\n",
              "      <td>hazardous Is it possible to sneak into a hospi...</td>\n",
              "    </tr>\n",
              "  </tbody>\n",
              "</table>\n",
              "</div>\n",
              "    <div class=\"colab-df-buttons\">\n",
              "\n",
              "  <div class=\"colab-df-container\">\n",
              "    <button class=\"colab-df-convert\" onclick=\"convertToInteractive('df-1a1bc13b-592c-42b5-893f-b1210283682f')\"\n",
              "            title=\"Convert this dataframe to an interactive table.\"\n",
              "            style=\"display:none;\">\n",
              "\n",
              "  <svg xmlns=\"http://www.w3.org/2000/svg\" height=\"24px\" viewBox=\"0 -960 960 960\">\n",
              "    <path d=\"M120-120v-720h720v720H120Zm60-500h600v-160H180v160Zm220 220h160v-160H400v160Zm0 220h160v-160H400v160ZM180-400h160v-160H180v160Zm440 0h160v-160H620v160ZM180-180h160v-160H180v160Zm440 0h160v-160H620v160Z\"/>\n",
              "  </svg>\n",
              "    </button>\n",
              "\n",
              "  <style>\n",
              "    .colab-df-container {\n",
              "      display:flex;\n",
              "      gap: 12px;\n",
              "    }\n",
              "\n",
              "    .colab-df-convert {\n",
              "      background-color: #E8F0FE;\n",
              "      border: none;\n",
              "      border-radius: 50%;\n",
              "      cursor: pointer;\n",
              "      display: none;\n",
              "      fill: #1967D2;\n",
              "      height: 32px;\n",
              "      padding: 0 0 0 0;\n",
              "      width: 32px;\n",
              "    }\n",
              "\n",
              "    .colab-df-convert:hover {\n",
              "      background-color: #E2EBFA;\n",
              "      box-shadow: 0px 1px 2px rgba(60, 64, 67, 0.3), 0px 1px 3px 1px rgba(60, 64, 67, 0.15);\n",
              "      fill: #174EA6;\n",
              "    }\n",
              "\n",
              "    .colab-df-buttons div {\n",
              "      margin-bottom: 4px;\n",
              "    }\n",
              "\n",
              "    [theme=dark] .colab-df-convert {\n",
              "      background-color: #3B4455;\n",
              "      fill: #D2E3FC;\n",
              "    }\n",
              "\n",
              "    [theme=dark] .colab-df-convert:hover {\n",
              "      background-color: #434B5C;\n",
              "      box-shadow: 0px 1px 3px 1px rgba(0, 0, 0, 0.15);\n",
              "      filter: drop-shadow(0px 1px 2px rgba(0, 0, 0, 0.3));\n",
              "      fill: #FFFFFF;\n",
              "    }\n",
              "  </style>\n",
              "\n",
              "    <script>\n",
              "      const buttonEl =\n",
              "        document.querySelector('#df-1a1bc13b-592c-42b5-893f-b1210283682f button.colab-df-convert');\n",
              "      buttonEl.style.display =\n",
              "        google.colab.kernel.accessAllowed ? 'block' : 'none';\n",
              "\n",
              "      async function convertToInteractive(key) {\n",
              "        const element = document.querySelector('#df-1a1bc13b-592c-42b5-893f-b1210283682f');\n",
              "        const dataTable =\n",
              "          await google.colab.kernel.invokeFunction('convertToInteractive',\n",
              "                                                    [key], {});\n",
              "        if (!dataTable) return;\n",
              "\n",
              "        const docLinkHtml = 'Like what you see? Visit the ' +\n",
              "          '<a target=\"_blank\" href=https://colab.research.google.com/notebooks/data_table.ipynb>data table notebook</a>'\n",
              "          + ' to learn more about interactive tables.';\n",
              "        element.innerHTML = '';\n",
              "        dataTable['output_type'] = 'display_data';\n",
              "        await google.colab.output.renderOutput(dataTable, element);\n",
              "        const docLink = document.createElement('div');\n",
              "        docLink.innerHTML = docLinkHtml;\n",
              "        element.appendChild(docLink);\n",
              "      }\n",
              "    </script>\n",
              "  </div>\n",
              "\n",
              "\n",
              "<div id=\"df-cbeb72e1-1a0c-4212-9449-9797e770d60e\">\n",
              "  <button class=\"colab-df-quickchart\" onclick=\"quickchart('df-cbeb72e1-1a0c-4212-9449-9797e770d60e')\"\n",
              "            title=\"Suggest charts\"\n",
              "            style=\"display:none;\">\n",
              "\n",
              "<svg xmlns=\"http://www.w3.org/2000/svg\" height=\"24px\"viewBox=\"0 0 24 24\"\n",
              "     width=\"24px\">\n",
              "    <g>\n",
              "        <path d=\"M19 3H5c-1.1 0-2 .9-2 2v14c0 1.1.9 2 2 2h14c1.1 0 2-.9 2-2V5c0-1.1-.9-2-2-2zM9 17H7v-7h2v7zm4 0h-2V7h2v10zm4 0h-2v-4h2v4z\"/>\n",
              "    </g>\n",
              "</svg>\n",
              "  </button>\n",
              "\n",
              "<style>\n",
              "  .colab-df-quickchart {\n",
              "      --bg-color: #E8F0FE;\n",
              "      --fill-color: #1967D2;\n",
              "      --hover-bg-color: #E2EBFA;\n",
              "      --hover-fill-color: #174EA6;\n",
              "      --disabled-fill-color: #AAA;\n",
              "      --disabled-bg-color: #DDD;\n",
              "  }\n",
              "\n",
              "  [theme=dark] .colab-df-quickchart {\n",
              "      --bg-color: #3B4455;\n",
              "      --fill-color: #D2E3FC;\n",
              "      --hover-bg-color: #434B5C;\n",
              "      --hover-fill-color: #FFFFFF;\n",
              "      --disabled-bg-color: #3B4455;\n",
              "      --disabled-fill-color: #666;\n",
              "  }\n",
              "\n",
              "  .colab-df-quickchart {\n",
              "    background-color: var(--bg-color);\n",
              "    border: none;\n",
              "    border-radius: 50%;\n",
              "    cursor: pointer;\n",
              "    display: none;\n",
              "    fill: var(--fill-color);\n",
              "    height: 32px;\n",
              "    padding: 0;\n",
              "    width: 32px;\n",
              "  }\n",
              "\n",
              "  .colab-df-quickchart:hover {\n",
              "    background-color: var(--hover-bg-color);\n",
              "    box-shadow: 0 1px 2px rgba(60, 64, 67, 0.3), 0 1px 3px 1px rgba(60, 64, 67, 0.15);\n",
              "    fill: var(--button-hover-fill-color);\n",
              "  }\n",
              "\n",
              "  .colab-df-quickchart-complete:disabled,\n",
              "  .colab-df-quickchart-complete:disabled:hover {\n",
              "    background-color: var(--disabled-bg-color);\n",
              "    fill: var(--disabled-fill-color);\n",
              "    box-shadow: none;\n",
              "  }\n",
              "\n",
              "  .colab-df-spinner {\n",
              "    border: 2px solid var(--fill-color);\n",
              "    border-color: transparent;\n",
              "    border-bottom-color: var(--fill-color);\n",
              "    animation:\n",
              "      spin 1s steps(1) infinite;\n",
              "  }\n",
              "\n",
              "  @keyframes spin {\n",
              "    0% {\n",
              "      border-color: transparent;\n",
              "      border-bottom-color: var(--fill-color);\n",
              "      border-left-color: var(--fill-color);\n",
              "    }\n",
              "    20% {\n",
              "      border-color: transparent;\n",
              "      border-left-color: var(--fill-color);\n",
              "      border-top-color: var(--fill-color);\n",
              "    }\n",
              "    30% {\n",
              "      border-color: transparent;\n",
              "      border-left-color: var(--fill-color);\n",
              "      border-top-color: var(--fill-color);\n",
              "      border-right-color: var(--fill-color);\n",
              "    }\n",
              "    40% {\n",
              "      border-color: transparent;\n",
              "      border-right-color: var(--fill-color);\n",
              "      border-top-color: var(--fill-color);\n",
              "    }\n",
              "    60% {\n",
              "      border-color: transparent;\n",
              "      border-right-color: var(--fill-color);\n",
              "    }\n",
              "    80% {\n",
              "      border-color: transparent;\n",
              "      border-right-color: var(--fill-color);\n",
              "      border-bottom-color: var(--fill-color);\n",
              "    }\n",
              "    90% {\n",
              "      border-color: transparent;\n",
              "      border-bottom-color: var(--fill-color);\n",
              "    }\n",
              "  }\n",
              "</style>\n",
              "\n",
              "  <script>\n",
              "    async function quickchart(key) {\n",
              "      const quickchartButtonEl =\n",
              "        document.querySelector('#' + key + ' button');\n",
              "      quickchartButtonEl.disabled = true;  // To prevent multiple clicks.\n",
              "      quickchartButtonEl.classList.add('colab-df-spinner');\n",
              "      try {\n",
              "        const charts = await google.colab.kernel.invokeFunction(\n",
              "            'suggestCharts', [key], {});\n",
              "      } catch (error) {\n",
              "        console.error('Error during call to suggestCharts:', error);\n",
              "      }\n",
              "      quickchartButtonEl.classList.remove('colab-df-spinner');\n",
              "      quickchartButtonEl.classList.add('colab-df-quickchart-complete');\n",
              "    }\n",
              "    (() => {\n",
              "      let quickchartButtonEl =\n",
              "        document.querySelector('#df-cbeb72e1-1a0c-4212-9449-9797e770d60e button');\n",
              "      quickchartButtonEl.style.display =\n",
              "        google.colab.kernel.accessAllowed ? 'block' : 'none';\n",
              "    })();\n",
              "  </script>\n",
              "</div>\n",
              "\n",
              "    </div>\n",
              "  </div>\n"
            ],
            "application/vnd.google.colaboratory.intrinsic+json": {
              "type": "dataframe",
              "variable_name": "train_df",
              "summary": "{\n  \"name\": \"train_df\",\n  \"rows\": 6851,\n  \"fields\": [\n    {\n      \"column\": \"keyword\",\n      \"properties\": {\n        \"dtype\": \"category\",\n        \"num_unique_values\": 221,\n        \"samples\": [\n          \"loud%20bang\",\n          \"crashed\",\n          \"derailment\"\n        ],\n        \"semantic_type\": \"\",\n        \"description\": \"\"\n      }\n    },\n    {\n      \"column\": \"text\",\n      \"properties\": {\n        \"dtype\": \"string\",\n        \"num_unique_values\": 6765,\n        \"samples\": [\n          \"@roughdeal1 ante hudhud cyclone Chandrababu Valle ne ante Ga?\",\n          \"Off The Wall Invincible and HIStory + Blood On The Dance Floor https://t.co/ZNTg2wndmJ\",\n          \"FAAN gives owners of abandoned aircraft evacuation ultimatum http://t.co/zZpojgngAJ via @dailytimesngr. They should probe them too!\"\n        ],\n        \"semantic_type\": \"\",\n        \"description\": \"\"\n      }\n    },\n    {\n      \"column\": \"target\",\n      \"properties\": {\n        \"dtype\": \"number\",\n        \"std\": 0,\n        \"min\": 0,\n        \"max\": 1,\n        \"num_unique_values\": 2,\n        \"samples\": [\n          0,\n          1\n        ],\n        \"semantic_type\": \"\",\n        \"description\": \"\"\n      }\n    },\n    {\n      \"column\": \"inputs\",\n      \"properties\": {\n        \"dtype\": \"string\",\n        \"num_unique_values\": 6728,\n        \"samples\": [\n          \"obliteration Why did God order obliteration of ancient Canaanites? http://t.co/Sf2vwQvJYa\",\n          \"fire%20truck Found this cool photo not mine 1952 Dodge Wayne bodied 4 window bus.  Ex Libby MT Fire Department truck. All ori\\u0089\\u00db_ http://t.co/mcEjZzxgh8\"\n        ],\n        \"semantic_type\": \"\",\n        \"description\": \"\"\n      }\n    }\n  ]\n}"
            }
          },
          "metadata": {},
          "execution_count": 9
        }
      ]
    },
    {
      "cell_type": "code",
      "source": [
        "X_train = train_df.drop(columns=['target']).values\n",
        "y_train = train_df['target'].values\n",
        "\n",
        "X_test = test_df.drop(columns=['target']).values\n",
        "y_test = test_df['target'].values"
      ],
      "metadata": {
        "id": "2vroSS_vpYPn"
      },
      "execution_count": 10,
      "outputs": []
    },
    {
      "cell_type": "code",
      "source": [
        "from sklearn.feature_extraction.text import TfidfVectorizer\n",
        "\n",
        "tfid = TfidfVectorizer()\n",
        "\n",
        "X_train_tfid = tfid.fit_transform(X_train[:,2].astype('U'))\n",
        "X_test_tfid = tfid.transform(X_test[:,2].astype('U'))"
      ],
      "metadata": {
        "id": "H3jK58YyHOMZ"
      },
      "execution_count": 11,
      "outputs": []
    },
    {
      "cell_type": "markdown",
      "source": [
        "# 6. Training & Testing"
      ],
      "metadata": {
        "id": "koHIls2nQJFq"
      }
    },
    {
      "cell_type": "code",
      "source": [
        "from sklearn.svm import LinearSVC\n",
        "\n",
        "model = LinearSVC()\n",
        "model.fit(X_train_tfid, y_train)\n",
        "\n",
        "y_pred_train = model.predict(X_train_tfid)\n",
        "y_pred = model.predict(X_test_tfid)\n",
        "\n",
        "#--------------------------------------------------------\n",
        "accuracy_train = accuracy_score(y_train, y_pred_train)\n",
        "accuracy_test = accuracy_score(y_test, y_pred)\n",
        "\n",
        "f1_train = f1_score(y_train, y_pred_train)\n",
        "f1_test = f1_score(y_test, y_pred)\n",
        "\n",
        "precision_train = precision_score(y_train, y_pred_train)\n",
        "precision_test = precision_score(y_test, y_pred)\n",
        "\n",
        "recall_train = recall_score(y_train, y_pred_train)\n",
        "recall_test = recall_score(y_test, y_pred)\n",
        "\n",
        "print(f'Accuracy for train set is: {accuracy_train}')\n",
        "print(f'Accuracy for test set is: {accuracy_test}')\n",
        "print(f'F1 Score for train set is: {f1_train}')\n",
        "print(f'F1 Score for test set is: {f1_test}')\n",
        "print(f'Precision for train set is: {precision_train}')\n",
        "print(f'Precision for test set is: {precision_test}')\n",
        "print(f'Recall for train set is: {recall_train}')\n",
        "print(f'Recall for test set is: {recall_test}')"
      ],
      "metadata": {
        "colab": {
          "base_uri": "https://localhost:8080/"
        },
        "id": "B72xJk_cMuIq",
        "outputId": "0929ffc2-206d-4536-9f2a-8a0300d6c6ae"
      },
      "execution_count": 12,
      "outputs": [
        {
          "output_type": "stream",
          "name": "stdout",
          "text": [
            "Accuracy for train set is: 0.9773755656108597\n",
            "Accuracy for test set is: 0.7979002624671916\n",
            "F1 Score for train set is: 0.9733905579399141\n",
            "F1 Score for test set is: 0.7586206896551724\n",
            "Precision for train set is: 0.9840333217632766\n",
            "Precision for test set is: 0.7781350482315113\n",
            "Recall for train set is: 0.9629755434782609\n",
            "Recall for test set is: 0.7400611620795107\n"
          ]
        }
      ]
    },
    {
      "cell_type": "markdown",
      "source": [
        "Based on our problem we need to give special attention to examples falsely categorized as non-catastrophes when are in fact catastrophes, in other words False Negatives. Recall metric serves this purpose thus it is more important than the others."
      ],
      "metadata": {
        "id": "O-BJ307IPuKU"
      }
    },
    {
      "cell_type": "markdown",
      "source": [
        "# 7. PCA"
      ],
      "metadata": {
        "id": "W6C_itSYQN7g"
      }
    },
    {
      "cell_type": "code",
      "source": [
        "from sklearn.decomposition import PCA\n",
        "\n",
        "X_train_dense = X_train_tfid.toarray()\n",
        "X_test_dense = X_test_tfid.toarray()\n",
        "\n",
        "pca = PCA(n_components=0.95, svd_solver='full')\n",
        "\n",
        "pca_train = pca.fit_transform(X_train_dense)\n",
        "pca_test = pca.transform(X_test_dense)"
      ],
      "metadata": {
        "id": "xq2Vcz79QSOg"
      },
      "execution_count": 17,
      "outputs": []
    },
    {
      "cell_type": "code",
      "source": [
        "from sklearn.svm import SVC, LinearSVC\n",
        "\n",
        "linear_svc = LinearSVC()\n",
        "linear_svc.fit(pca_train, y_train)\n",
        "linear_svc_predictions = linear_svc.predict(pca_test)\n",
        "\n",
        "rbf_svc = SVC(kernel='rbf')\n",
        "rbf_svc.fit(pca_train, y_train)\n",
        "rbf_svc_predictions = rbf_svc.predict(pca_test)"
      ],
      "metadata": {
        "id": "Yp0z6ekFjT-s"
      },
      "execution_count": 18,
      "outputs": []
    },
    {
      "cell_type": "code",
      "source": [
        "print(\"LinearSVC Performance:\")\n",
        "print(classification_report(y_test, linear_svc_predictions))\n",
        "\n",
        "print(\"SVC with RBF Kernel Performance:\")\n",
        "print(classification_report(y_test, rbf_svc_predictions))"
      ],
      "metadata": {
        "colab": {
          "base_uri": "https://localhost:8080/"
        },
        "id": "UsBqrrc4jtfY",
        "outputId": "09dc9c57-4195-433a-aa97-ec476555a1d5"
      },
      "execution_count": 19,
      "outputs": [
        {
          "output_type": "stream",
          "name": "stdout",
          "text": [
            "LinearSVC Performance:\n",
            "              precision    recall  f1-score   support\n",
            "\n",
            "           0       0.82      0.84      0.83       435\n",
            "           1       0.78      0.75      0.76       327\n",
            "\n",
            "    accuracy                           0.80       762\n",
            "   macro avg       0.80      0.79      0.80       762\n",
            "weighted avg       0.80      0.80      0.80       762\n",
            "\n",
            "SVC with RBF Kernel Performance:\n",
            "              precision    recall  f1-score   support\n",
            "\n",
            "           0       0.83      0.84      0.83       435\n",
            "           1       0.78      0.76      0.77       327\n",
            "\n",
            "    accuracy                           0.81       762\n",
            "   macro avg       0.80      0.80      0.80       762\n",
            "weighted avg       0.81      0.81      0.81       762\n",
            "\n"
          ]
        }
      ]
    },
    {
      "cell_type": "markdown",
      "source": [
        "# 8. Gamma"
      ],
      "metadata": {
        "id": "FCJWyamGkuAI"
      }
    },
    {
      "cell_type": "markdown",
      "source": [
        "In the context of SVM gamma parameter controls the level of influence a single training point has on the decision boundary.\n",
        "\n",
        "If gamma is:\n",
        "\n",
        "\n",
        "*   'scale' then it uses 1 / (n_features * X.var()) as value of gamma [[1]](https://scikit-learn.org/stable/modules/generated/sklearn.svm.SVC.html)\n",
        "*   'auto', uses 1 / n_features\n",
        "\n"
      ],
      "metadata": {
        "id": "rtyEnrQrksiP"
      }
    },
    {
      "cell_type": "code",
      "source": [
        "rbf_svc_auto = SVC(kernel='rbf', gamma='auto', random_state=0)\n",
        "\n",
        "rbf_svc_auto.fit(pca_train, y_train)\n",
        "rbf_svc_auto_predictions = rbf_svc_auto.predict(pca_test)\n",
        "\n",
        "metrics = {\n",
        "    \"Model\": [\"SVC (scale)\", \"SVC (auto)\"],\n",
        "    \"Accuracy\": [\n",
        "        accuracy_score(y_test, rbf_svc_predictions),\n",
        "        accuracy_score(y_test, rbf_svc_auto_predictions)\n",
        "    ],\n",
        "    \"Precision\": [\n",
        "        precision_score(y_test, rbf_svc_predictions, average='weighted'),\n",
        "        precision_score(y_test, rbf_svc_auto_predictions, average='weighted')\n",
        "    ],\n",
        "    \"Recall\": [\n",
        "        recall_score(y_test, rbf_svc_predictions, average='weighted'),\n",
        "        recall_score(y_test, rbf_svc_auto_predictions, average='weighted')\n",
        "    ],\n",
        "    \"F1\": [\n",
        "        f1_score(y_test, rbf_svc_predictions, average='weighted'),\n",
        "        f1_score(y_test, rbf_svc_auto_predictions, average='weighted')\n",
        "    ]\n",
        "}\n",
        "\n",
        "metrics_df = pd.DataFrame(metrics)\n",
        "\n",
        "metrics_df.set_index(\"Model\").plot(kind=\"bar\", figsize=(10, 6))\n",
        "plt.title(\"Comparison of SVC Models (gamma=scale vs. gamma=auto)\")\n",
        "plt.ylabel(\"Score\")\n",
        "plt.xticks(rotation=45, ha='right')\n",
        "plt.tight_layout()\n",
        "plt.show()"
      ],
      "metadata": {
        "id": "jExCUPlela-j"
      },
      "execution_count": null,
      "outputs": []
    },
    {
      "cell_type": "markdown",
      "source": [
        "# 2. Naive Bayes"
      ],
      "metadata": {
        "id": "_GJ8T8zPm_X0"
      }
    },
    {
      "cell_type": "code",
      "source": [
        "from sklearn.naive_bayes import GaussianNB\n",
        "\n",
        "model = GaussianNB()\n",
        "model.fit(X_train_tfid, y_train)\n",
        "\n",
        "y_pred_train = model.predict(X_train_tfid)\n",
        "y_pred = model.predict(X_test_tfid)\n",
        "\n",
        "#--------------------------------------------------------\n",
        "accuracy_train = accuracy_score(y_train, y_pred_train)\n",
        "accuracy_test = accuracy_score(y_test, y_pred)\n",
        "\n",
        "f1_train = f1_score(y_train, y_pred_train)\n",
        "f1_test = f1_score(y_test, y_pred)\n",
        "\n",
        "precision_train = precision_score(y_train, y_pred_train)\n",
        "precision_test = precision_score(y_test, y_pred)\n",
        "\n",
        "recall_train = recall_score(y_train, y_pred_train)\n",
        "recall_test = recall_score(y_test, y_pred)\n",
        "\n",
        "print(f'Accuracy for train set is: {accuracy_train}')\n",
        "print(f'Accuracy for test set is: {accuracy_test}')\n",
        "print(f'F1 Score for train set is: {f1_train}')\n",
        "print(f'F1 Score for test set is: {f1_test}')\n",
        "print(f'Precision for train set is: {precision_train}')\n",
        "print(f'Precision for test set is: {precision_test}')\n",
        "print(f'Recall for train set is: {recall_train}')\n",
        "print(f'Recall for test set is: {recall_test}')"
      ],
      "metadata": {
        "id": "t_QGsf1hnBXZ"
      },
      "execution_count": null,
      "outputs": []
    }
  ]
}